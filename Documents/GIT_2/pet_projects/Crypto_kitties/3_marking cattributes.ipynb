{
 "cells": [
  {
   "cell_type": "code",
   "execution_count": 44,
   "metadata": {
    "collapsed": true
   },
   "outputs": [],
   "source": [
    "import pandas as pd\n",
    "import numpy as np"
   ]
  },
  {
   "cell_type": "code",
   "execution_count": 45,
   "metadata": {
    "collapsed": false
   },
   "outputs": [],
   "source": [
    "columns = ['num','isGestating','isReady','cooldownIndex','nextActionAt',\\\n",
    "       'siringWithId','birthTime','matronId','sireId','generation','genes']\n",
    "data = pd.read_csv('kitties_new.csv', header =None,index_col=None )\n",
    "data.columns = columns"
   ]
  },
  {
   "cell_type": "code",
   "execution_count": 46,
   "metadata": {
    "collapsed": false
   },
   "outputs": [],
   "source": [
    "data['genes']=pd.to_numeric(data['genes'], errors='coerce')"
   ]
  },
  {
   "cell_type": "markdown",
   "metadata": {},
   "source": [
    "## to_Hex"
   ]
  },
  {
   "cell_type": "code",
   "execution_count": 47,
   "metadata": {
    "collapsed": true
   },
   "outputs": [],
   "source": [
    "def to_hex(x):\n",
    "    return hex(int(x))\n",
    "data['genes'] = data['genes'].apply(lambda x: to_hex(x))"
   ]
  },
  {
   "cell_type": "markdown",
   "metadata": {},
   "source": [
    "## cattributes"
   ]
  },
  {
   "cell_type": "code",
   "execution_count": 48,
   "metadata": {
    "collapsed": false
   },
   "outputs": [],
   "source": [
    "def breed(x):\n",
    "    if x[61]=='5':\n",
    "        return 'mainecoon'\n",
    "    elif x[61]=='9':\n",
    "        return 'cymric'\n",
    "    elif x[61]=='6':\n",
    "        return 'laperm'\n",
    "    elif x[61]=='c':\n",
    "        return 'munchkin'\n",
    "    elif x[61]=='d':\n",
    "        return 'sphynx'\n",
    "    elif x[61]=='e':\n",
    "        return 'ragamaffin'\n",
    "    elif x[61]=='b':\n",
    "        return 'himalayan'\n",
    "    elif x[61]=='a':\n",
    "        return 'chartreux'\n",
    "    elif x[61]=='7':\n",
    "        return 'persian'\n",
    "    elif x[61]=='f':\n",
    "        return 'ragdoll'\n",
    "    else: return 'unknown'\n",
    "data['breed']=data['genes'].apply(lambda x: breed(x))"
   ]
  },
  {
   "cell_type": "code",
   "execution_count": 49,
   "metadata": {
    "collapsed": false
   },
   "outputs": [],
   "source": [
    "def prim_col(x):\n",
    "    if x[41]=='5':\n",
    "        return 'mauveover'\n",
    "    elif x[41]=='0': #mix or choose cloudwhite(12110 or 6.495%) or shadowgrey(23884 or 12.793%)\n",
    "        return 'cloudgrey'\n",
    "    elif x[41]=='1':\n",
    "        return 'salmon'\n",
    "    elif x[41]=='3':\n",
    "        return 'orangesoda'\n",
    "    elif x[41]=='6':\n",
    "        return 'aquamarine'\n",
    "    elif x[41]=='a':\n",
    "        return 'greymatter'\n",
    "    elif x[41]=='2':\n",
    "        return 'oldlace'\n",
    "    elif x[41]=='4':\n",
    "        return 'cottoncandy'\n",
    "    else: return 'unknown'\n",
    "    \n",
    "data['prim_col']=data['genes'].apply(lambda x: prim_col(x))"
   ]
  },
  {
   "cell_type": "code",
   "execution_count": 50,
   "metadata": {
    "collapsed": false
   },
   "outputs": [],
   "source": [
    "def sec_col(x):\n",
    "    if x[31]=='2':\n",
    "        return 'peach'\n",
    "    elif x[31]=='3': \n",
    "        return 'bloodred'\n",
    "    elif x[31]=='7':\n",
    "        return 'emeraldgreen'\n",
    "    elif x[31]=='4':\n",
    "        return 'granitegrey'\n",
    "    elif x[31]=='6':\n",
    "        return 'kittencream'\n",
    "    elif x[31]=='0':\n",
    "        return 'belleblue'\n",
    "    else: return 'unknown'\n",
    "\n",
    "data['sec_col']=data['genes'].apply(lambda x: sec_col(x))       "
   ]
  },
  {
   "cell_type": "code",
   "execution_count": 51,
   "metadata": {
    "collapsed": false
   },
   "outputs": [],
   "source": [
    "def pat_col(x):\n",
    "    if x[36]=='5':\n",
    "        return 'cerulian'\n",
    "    elif x[36]=='a': \n",
    "        return 'scarlet'\n",
    "    elif x[36]=='6': #mix or skyblue(8662 or 4.631% ) or royalpurple(26412 or 14.113%)\n",
    "        return 'blurple'\n",
    "    elif x[36]=='b':\n",
    "        return 'barkbrown'\n",
    "    elif x[36]=='c':\n",
    "        return 'coffee'\n",
    "    elif x[36]=='d':\n",
    "        return 'lemonade'\n",
    "    elif x[36]=='8':\n",
    "        return 'swampgreen'\n",
    "    elif x[36]=='e':\n",
    "        return 'chocolate'\n",
    "    elif x[36]=='9':\n",
    "        return 'violet'\n",
    "    elif x[36]=='4':\n",
    "        return 'wolfgrey'    \n",
    "    else: return 'unknown'\n",
    "data['pat_col']=data['genes'].apply(lambda x: pat_col(x)) "
   ]
  },
  {
   "cell_type": "code",
   "execution_count": 52,
   "metadata": {
    "collapsed": false
   },
   "outputs": [],
   "source": [
    "def pat_type(x):\n",
    "    if x[56]=='c':\n",
    "        return 'spock'\n",
    "    elif x[56]=='4': \n",
    "        return 'tigerpunk'\n",
    "    elif x[56]=='8': \n",
    "        return 'calicool'\n",
    "    elif x[56]=='9':\n",
    "        return 'luckystripe'\n",
    "    elif x[56]=='b':\n",
    "        return 'jaguar'\n",
    "    elif x[56]=='e':\n",
    "        return 'totesbasic'\n",
    "    elif x[56]=='f':\n",
    "        return 'totesbasic'\n",
    "    elif x[56]=='7':\n",
    "        return 'totesbasic'\n",
    "    else: return 'unknown'\n",
    "data['pat_type']=data['genes'].apply(lambda x: pat_type(x)) "
   ]
  },
  {
   "cell_type": "code",
   "execution_count": 53,
   "metadata": {
    "collapsed": false
   },
   "outputs": [],
   "source": [
    "def eye_type(x):\n",
    "    if x[46]=='9':\n",
    "        return 'wingtips'\n",
    "    elif x[46]=='2': \n",
    "        return 'fabulous'\n",
    "    elif x[46]=='4': \n",
    "        return 'otaku'\n",
    "    elif x[46]=='3': #raisedbrow (32905 or 17.560%) or googly (3317 kitties or 1.770%)\n",
    "        return 'raisedbrow'\n",
    "    elif x[46]=='5':\n",
    "        return 'simple'\n",
    "    elif x[46]=='6':\n",
    "        return 'crazy'\n",
    "    elif x[46]=='7':\n",
    "        return 'thicccbrowz'\n",
    "    else: return 'unknown'\n",
    "data['eye_type']=data['genes'].apply(lambda x: eye_type(x)) "
   ]
  },
  {
   "cell_type": "code",
   "execution_count": 54,
   "metadata": {
    "collapsed": false
   },
   "outputs": [],
   "source": [
    "def eye_col(x):\n",
    "    if x[51]=='1': #mix or gold (10,578 or 5.642%) or limegreen (10,250 or 5.466%)\n",
    "        return 'golime'\n",
    "    elif x[51]=='3'and x[28]=='1': \n",
    "        return 'mintgreen'\n",
    "    elif x[51]=='3': \n",
    "        return 'bubblegum'\n",
    "    elif x[51]=='6': \n",
    "        return 'chestnut'\n",
    "    elif x[51]=='2':\n",
    "        return 'topaz'\n",
    "    elif x[51]=='7':\n",
    "        return 'strawberry'\n",
    "    elif x[51]=='5':\n",
    "        return 'sizzurp'\n",
    "    else: return 'unknown'\n",
    "data['eye_col']=data['genes'].apply(lambda x: eye_col(x)) "
   ]
  },
  {
   "cell_type": "code",
   "execution_count": 55,
   "metadata": {
    "collapsed": false
   },
   "outputs": [],
   "source": [
    "def mouth(x):\n",
    "    if x[21]=='0': \n",
    "        return 'whixtensions'\n",
    "    elif x[21]=='4': \n",
    "        return 'dali'\n",
    "    elif x[21]=='a': \n",
    "        return 'saycheese'\n",
    "    elif x[21]=='8': \n",
    "        return 'beard'\n",
    "    elif x[21]=='7':\n",
    "        return 'tongue'\n",
    "    elif x[21]=='e':\n",
    "        return 'happygokitty'\n",
    "    elif x[21]=='9':\n",
    "        return 'pouty'\n",
    "    elif x[21]=='f':\n",
    "        return 'soserious'\n",
    "    elif x[21]=='3':\n",
    "        return 'gerbil'\n",
    "    else: return 'unknown'\n",
    "data['mouth']=data['genes'].apply(lambda x: mouth(x)) "
   ]
  },
  {
   "cell_type": "code",
   "execution_count": 56,
   "metadata": {
    "collapsed": false
   },
   "outputs": [],
   "source": [
    "data.to_csv('markedcats_13_12.csv', index=False)"
   ]
  },
  {
   "cell_type": "code",
   "execution_count": null,
   "metadata": {
    "collapsed": true
   },
   "outputs": [],
   "source": [
    "#siringwith - партнер\n",
    "#sireid - отец котенка\n",
    "#matronid - мать котенка - 0 для гена 0\n",
    "#siringWithId идентификатор беременности - исп для гена нового котенка\n",
    "#nextActionAt - время спада колдауна - не актуально, так как не знаем какое было на момент продажи"
   ]
  },
  {
   "cell_type": "code",
   "execution_count": 57,
   "metadata": {
    "collapsed": true
   },
   "outputs": [],
   "source": [
    "df = pd.read_csv('markedcats_13_12.csv')"
   ]
  }
 ],
 "metadata": {
  "kernelspec": {
   "display_name": "Python 3",
   "language": "python",
   "name": "python3"
  },
  "language_info": {
   "codemirror_mode": {
    "name": "ipython",
    "version": 3
   },
   "file_extension": ".py",
   "mimetype": "text/x-python",
   "name": "python",
   "nbconvert_exporter": "python",
   "pygments_lexer": "ipython3",
   "version": "3.5.2"
  }
 },
 "nbformat": 4,
 "nbformat_minor": 2
}
