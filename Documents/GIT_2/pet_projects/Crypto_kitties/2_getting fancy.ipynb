{
 "cells": [
  {
   "cell_type": "code",
   "execution_count": 1,
   "metadata": {
    "collapsed": true
   },
   "outputs": [],
   "source": [
    "from urllib.request import Request, urlopen\n",
    "import time\n",
    "import csv\n",
    "import json\n",
    "\n",
    "import re"
   ]
  },
  {
   "cell_type": "markdown",
   "metadata": {},
   "source": [
    "# Chicken lst"
   ]
  },
  {
   "cell_type": "code",
   "execution_count": 2,
   "metadata": {
    "collapsed": false
   },
   "outputs": [],
   "source": [
    "chick_lst=[]\n",
    "\n",
    "for i in range(1,171):\n",
    "    time.sleep(4)\n",
    "    req = Request('https://cryptokittydex.com/pixels/0x895602d4a25404ca1e4404eb776c48ca10eaa6cb?page=%d'% (i),\\\n",
    "                 headers={'User-Agent': 'Mozilla/5.0'})\n",
    "    webpage = urlopen(req).read()\n",
    "    j=webpage.decode(\"utf-8\")\n",
    "    n=json.dumps(j)\n",
    "    chick_lst.append(' '.join(re.findall('kitty-([\\d+]+)',n)))"
   ]
  },
  {
   "cell_type": "code",
   "execution_count": 3,
   "metadata": {
    "collapsed": false
   },
   "outputs": [],
   "source": [
    "results=[]\n",
    "results.append(\" \".join(chick_lst))\n",
    "chicken_lst=[int(i) for i in results[0].split()]"
   ]
  },
  {
   "cell_type": "markdown",
   "metadata": {},
   "source": [
    "# Ship_lst"
   ]
  },
  {
   "cell_type": "code",
   "execution_count": 6,
   "metadata": {
    "collapsed": true
   },
   "outputs": [],
   "source": [
    "ship_lst = []\n",
    "\n",
    "for i in range(1,29):\n",
    "    time.sleep(4)\n",
    "    req = Request('https://cryptokittydex.com/pixels/0xd9336b394c2c0c33f524a99cc45a1eaa63141df9?page=%d'% (i),\\\n",
    "                 headers={'User-Agent': 'Mozilla/5.0'})\n",
    "    webpage = urlopen(req).read()\n",
    "    j=webpage.decode(\"utf-8\")\n",
    "    n=json.dumps(j)\n",
    "    ship_lst.append(' '.join(re.findall('kitty-([\\d+]+)',n)))"
   ]
  },
  {
   "cell_type": "code",
   "execution_count": 7,
   "metadata": {
    "collapsed": true
   },
   "outputs": [],
   "source": [
    "results=[]\n",
    "results.append(\" \".join(ship_lst))\n",
    "ships_lst=[int(i) for i in results[0].split()]"
   ]
  },
  {
   "cell_type": "markdown",
   "metadata": {},
   "source": [
    "# Vamp_lst"
   ]
  },
  {
   "cell_type": "code",
   "execution_count": 8,
   "metadata": {
    "collapsed": true
   },
   "outputs": [],
   "source": [
    "vamp_lst = []\n",
    "\n",
    "for i in range(1,17):\n",
    "    time.sleep(4)\n",
    "    req = Request('https://cryptokittydex.com/pixels/0x0aa95999e0e707e30806c554772550356c37711a?page=%d'% (i),\\\n",
    "                 headers={'User-Agent': 'Mozilla/5.0'})\n",
    "    webpage = urlopen(req).read()\n",
    "    j=webpage.decode(\"utf-8\")\n",
    "    n=json.dumps(j)\n",
    "    vamp_lst.append(' '.join(re.findall('kitty-([\\d+]+)',n)))"
   ]
  },
  {
   "cell_type": "code",
   "execution_count": 9,
   "metadata": {
    "collapsed": true
   },
   "outputs": [],
   "source": [
    "results=[]\n",
    "results.append(\" \".join(vamp_lst))\n",
    "dracula_lst=[int(i) for i in results[0].split()]"
   ]
  },
  {
   "cell_type": "markdown",
   "metadata": {},
   "source": [
    "# NY_lst"
   ]
  },
  {
   "cell_type": "code",
   "execution_count": 10,
   "metadata": {
    "collapsed": true
   },
   "outputs": [],
   "source": [
    "ny_lst = []\n",
    "\n",
    "for i in range(1,13):\n",
    "    time.sleep(4)\n",
    "    req = Request('https://cryptokittydex.com/pixels/0xd9111e81e43181b2a47203cbb9e01cde70375e83?page=%d'% (i),\\\n",
    "                 headers={'User-Agent': 'Mozilla/5.0'})\n",
    "    webpage = urlopen(req).read()\n",
    "    j=webpage.decode(\"utf-8\")\n",
    "    n=json.dumps(j)\n",
    "    ny_lst.append(' '.join(re.findall('kitty-([\\d+]+)',n)))"
   ]
  },
  {
   "cell_type": "code",
   "execution_count": 11,
   "metadata": {
    "collapsed": true
   },
   "outputs": [],
   "source": [
    "results=[]\n",
    "results.append(\" \".join(ny_lst))\n",
    "mist_lst=[int(i) for i in results[0].split()]"
   ]
  },
  {
   "cell_type": "code",
   "execution_count": 12,
   "metadata": {
    "collapsed": false
   },
   "outputs": [],
   "source": [
    "#New kitties list\n",
    "nk_lst = [296750,296597,287880,296675,278621,275808,101,102,103,1]\n",
    "          "
   ]
  },
  {
   "cell_type": "code",
   "execution_count": 13,
   "metadata": {
    "collapsed": false
   },
   "outputs": [],
   "source": [
    "fancy_lst = chicken_lst+ships_lst+dracula_lst+mist_lst+nk_lst"
   ]
  },
  {
   "cell_type": "code",
   "execution_count": 14,
   "metadata": {
    "collapsed": true
   },
   "outputs": [],
   "source": [
    "fancy=list(set(fancy_lst))"
   ]
  },
  {
   "cell_type": "code",
   "execution_count": 17,
   "metadata": {
    "collapsed": false
   },
   "outputs": [],
   "source": [
    "outfile = open('fancy14_12.txt', 'w')\n",
    "for item in fancy:\n",
    "    outfile.write(\"%s\\n\" % item)"
   ]
  },
  {
   "cell_type": "code",
   "execution_count": 28,
   "metadata": {
    "collapsed": false
   },
   "outputs": [],
   "source": [
    "with open(\"fancy14_12.txt\") as file:\n",
    "    lines = [line.strip() for line in file]"
   ]
  },
  {
   "cell_type": "code",
   "execution_count": 29,
   "metadata": {
    "collapsed": false
   },
   "outputs": [],
   "source": [
    "fancy = list(map(int, lines))"
   ]
  },
  {
   "cell_type": "code",
   "execution_count": 30,
   "metadata": {
    "collapsed": false
   },
   "outputs": [
    {
     "data": {
      "text/plain": [
       "5268"
      ]
     },
     "execution_count": 30,
     "metadata": {},
     "output_type": "execute_result"
    }
   ],
   "source": [
    "len(fancy)"
   ]
  }
 ],
 "metadata": {
  "kernelspec": {
   "display_name": "Python 3",
   "language": "python",
   "name": "python3"
  },
  "language_info": {
   "codemirror_mode": {
    "name": "ipython",
    "version": 3
   },
   "file_extension": ".py",
   "mimetype": "text/x-python",
   "name": "python",
   "nbconvert_exporter": "python",
   "pygments_lexer": "ipython3",
   "version": "3.5.2"
  }
 },
 "nbformat": 4,
 "nbformat_minor": 2
}
