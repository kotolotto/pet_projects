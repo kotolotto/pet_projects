{
 "cells": [
  {
   "cell_type": "code",
   "execution_count": 1,
   "metadata": {
    "collapsed": false
   },
   "outputs": [],
   "source": [
    "import requests\n",
    "import csv\n",
    "import json\n",
    "import pandas as pd\n",
    "import numpy as np\n",
    "from tqdm import tqdm\n",
    "%matplotlib inline"
   ]
  },
  {
   "cell_type": "markdown",
   "metadata": {},
   "source": [
    "# Getting kitties prices"
   ]
  },
  {
   "cell_type": "code",
   "execution_count": 4,
   "metadata": {
    "collapsed": false
   },
   "outputs": [
    {
     "name": "stderr",
     "output_type": "stream",
     "text": [
      "100%|████████████████████████████████████████████████████████████████████████████| 1650/1650 [1:49:27<00:00,  3.98s/it]\n"
     ]
    }
   ],
   "source": [
    "import time\n",
    "res=[]\n",
    "i=0\n",
    "for off in tqdm(range(0,164990,100)):\n",
    "    time.sleep(2)\n",
    "    base_url = 'https://kittysales.herokuapp.com/data?offset=%d&count=100&sortBy=timestamp&direction=desc' % (off)\n",
    "    response = requests.get(base_url)\n",
    "    results = response.json()\n",
    "    res.append(results)\n",
    "    i+=1"
   ]
  },
  {
   "cell_type": "code",
   "execution_count": 5,
   "metadata": {
    "collapsed": false
   },
   "outputs": [
    {
     "data": {
      "text/plain": [
       "1650"
      ]
     },
     "execution_count": 5,
     "metadata": {},
     "output_type": "execute_result"
    }
   ],
   "source": [
    "i"
   ]
  },
  {
   "cell_type": "code",
   "execution_count": 6,
   "metadata": {
    "collapsed": false
   },
   "outputs": [
    {
     "data": {
      "text/plain": [
       "{'__v': 0,\n",
       " '_id': '5a32bee77a460f00147e9294',\n",
       " 'blockNumber': 4732497,\n",
       " 'blocktimeStamp': 1513275041,\n",
       " 'id': 'log_acc272f5',\n",
       " 'returnValues': {'0': 310050,\n",
       "  '1': 82293981481481490,\n",
       "  '2': 8.11762870673879e+47},\n",
       " 'soldPrice': 56.130667418981496}"
      ]
     },
     "execution_count": 6,
     "metadata": {},
     "output_type": "execute_result"
    }
   ],
   "source": [
    "#первый блок первая транзакция\n",
    "res[0]['sales'][0]"
   ]
  },
  {
   "cell_type": "code",
   "execution_count": 7,
   "metadata": {
    "collapsed": false
   },
   "outputs": [],
   "source": [
    "#нужные колонки\n",
    "cat_id = res[0]['sales'][0]['returnValues']['0'] \n",
    "soldPriceUSD = res[0]['sales'][0]['soldPrice']\n",
    "timeStamp = res[1427]['sales'][99]['blocktimeStamp']"
   ]
  },
  {
   "cell_type": "markdown",
   "metadata": {},
   "source": [
    "### Write necessary columns to file"
   ]
  },
  {
   "cell_type": "code",
   "execution_count": 8,
   "metadata": {
    "collapsed": false
   },
   "outputs": [],
   "source": [
    "f = csv.writer(open(\"cat_price160k.csv\", \"w\"))\n",
    "# header\n",
    "f.writerow([\"cat_id\", \"soldPrice\", \"timeStamp\"])\n",
    "\n",
    "for i in range(1650):\n",
    "    for j in range(100):\n",
    "        f.writerow([res[i]['sales'][j]['returnValues']['0'],\n",
    "              res[i]['sales'][j]['soldPrice'],\n",
    "              res[i]['sales'][j]['blocktimeStamp']])\n"
   ]
  },
  {
   "cell_type": "code",
   "execution_count": 9,
   "metadata": {
    "collapsed": false
   },
   "outputs": [],
   "source": [
    "price_df = pd.read_csv('cat_price160k.csv')"
   ]
  },
  {
   "cell_type": "code",
   "execution_count": 10,
   "metadata": {
    "collapsed": false
   },
   "outputs": [
    {
     "data": {
      "text/plain": [
       "(164888, 3)"
      ]
     },
     "execution_count": 10,
     "metadata": {},
     "output_type": "execute_result"
    }
   ],
   "source": [
    "price_df.shape"
   ]
  },
  {
   "cell_type": "code",
   "execution_count": 11,
   "metadata": {
    "collapsed": false
   },
   "outputs": [
    {
     "data": {
      "text/html": [
       "<div>\n",
       "<style>\n",
       "    .dataframe thead tr:only-child th {\n",
       "        text-align: right;\n",
       "    }\n",
       "\n",
       "    .dataframe thead th {\n",
       "        text-align: left;\n",
       "    }\n",
       "\n",
       "    .dataframe tbody tr th {\n",
       "        vertical-align: top;\n",
       "    }\n",
       "</style>\n",
       "<table border=\"1\" class=\"dataframe\">\n",
       "  <thead>\n",
       "    <tr style=\"text-align: right;\">\n",
       "      <th></th>\n",
       "      <th>cat_id</th>\n",
       "      <th>soldPrice</th>\n",
       "      <th>timeStamp</th>\n",
       "    </tr>\n",
       "  </thead>\n",
       "  <tbody>\n",
       "    <tr>\n",
       "      <th>98442</th>\n",
       "      <td>1189</td>\n",
       "      <td>1088.722500</td>\n",
       "      <td>1512682483</td>\n",
       "    </tr>\n",
       "    <tr>\n",
       "      <th>117711</th>\n",
       "      <td>1189</td>\n",
       "      <td>44.993954</td>\n",
       "      <td>1512542820</td>\n",
       "    </tr>\n",
       "    <tr>\n",
       "      <th>117715</th>\n",
       "      <td>1189</td>\n",
       "      <td>44.994058</td>\n",
       "      <td>1512542818</td>\n",
       "    </tr>\n",
       "  </tbody>\n",
       "</table>\n",
       "</div>"
      ],
      "text/plain": [
       "        cat_id    soldPrice   timeStamp\n",
       "98442     1189  1088.722500  1512682483\n",
       "117711    1189    44.993954  1512542820\n",
       "117715    1189    44.994058  1512542818"
      ]
     },
     "execution_count": 11,
     "metadata": {},
     "output_type": "execute_result"
    }
   ],
   "source": [
    "price_df[price_df['cat_id']==1189]"
   ]
  },
  {
   "cell_type": "markdown",
   "metadata": {},
   "source": [
    "### Check for dublicates"
   ]
  },
  {
   "cell_type": "code",
   "execution_count": 12,
   "metadata": {
    "collapsed": false
   },
   "outputs": [
    {
     "data": {
      "text/html": [
       "<div>\n",
       "<style>\n",
       "    .dataframe thead tr:only-child th {\n",
       "        text-align: right;\n",
       "    }\n",
       "\n",
       "    .dataframe thead th {\n",
       "        text-align: left;\n",
       "    }\n",
       "\n",
       "    .dataframe tbody tr th {\n",
       "        vertical-align: top;\n",
       "    }\n",
       "</style>\n",
       "<table border=\"1\" class=\"dataframe\">\n",
       "  <thead>\n",
       "    <tr style=\"text-align: right;\">\n",
       "      <th></th>\n",
       "      <th>cat_id</th>\n",
       "      <th>soldPrice</th>\n",
       "      <th>timeStamp</th>\n",
       "    </tr>\n",
       "  </thead>\n",
       "  <tbody>\n",
       "    <tr>\n",
       "      <th>144907</th>\n",
       "      <td>2</td>\n",
       "      <td>70166.100000</td>\n",
       "      <td>1512350196</td>\n",
       "    </tr>\n",
       "    <tr>\n",
       "      <th>158796</th>\n",
       "      <td>2</td>\n",
       "      <td>23118.331932</td>\n",
       "      <td>1512192871</td>\n",
       "    </tr>\n",
       "    <tr>\n",
       "      <th>113003</th>\n",
       "      <td>4</td>\n",
       "      <td>107816.488000</td>\n",
       "      <td>1512589317</td>\n",
       "    </tr>\n",
       "    <tr>\n",
       "      <th>146451</th>\n",
       "      <td>4</td>\n",
       "      <td>22837.184343</td>\n",
       "      <td>1512339029</td>\n",
       "    </tr>\n",
       "    <tr>\n",
       "      <th>126135</th>\n",
       "      <td>5</td>\n",
       "      <td>101600.520000</td>\n",
       "      <td>1512492301</td>\n",
       "    </tr>\n",
       "    <tr>\n",
       "      <th>146645</th>\n",
       "      <td>5</td>\n",
       "      <td>22608.334382</td>\n",
       "      <td>1512337186</td>\n",
       "    </tr>\n",
       "    <tr>\n",
       "      <th>136264</th>\n",
       "      <td>7</td>\n",
       "      <td>87677.342710</td>\n",
       "      <td>1512416747</td>\n",
       "    </tr>\n",
       "    <tr>\n",
       "      <th>146732</th>\n",
       "      <td>7</td>\n",
       "      <td>22608.958293</td>\n",
       "      <td>1512336526</td>\n",
       "    </tr>\n",
       "    <tr>\n",
       "      <th>143137</th>\n",
       "      <td>9</td>\n",
       "      <td>40293.315375</td>\n",
       "      <td>1512363328</td>\n",
       "    </tr>\n",
       "    <tr>\n",
       "      <th>145482</th>\n",
       "      <td>9</td>\n",
       "      <td>22916.050943</td>\n",
       "      <td>1512346478</td>\n",
       "    </tr>\n",
       "    <tr>\n",
       "      <th>143152</th>\n",
       "      <td>11</td>\n",
       "      <td>34965.818185</td>\n",
       "      <td>1512363216</td>\n",
       "    </tr>\n",
       "    <tr>\n",
       "      <th>159472</th>\n",
       "      <td>11</td>\n",
       "      <td>4621.192275</td>\n",
       "      <td>1512171958</td>\n",
       "    </tr>\n",
       "    <tr>\n",
       "      <th>111848</th>\n",
       "      <td>14</td>\n",
       "      <td>67202.265000</td>\n",
       "      <td>1512597598</td>\n",
       "    </tr>\n",
       "    <tr>\n",
       "      <th>144697</th>\n",
       "      <td>14</td>\n",
       "      <td>11694.350000</td>\n",
       "      <td>1512351659</td>\n",
       "    </tr>\n",
       "    <tr>\n",
       "      <th>155238</th>\n",
       "      <td>14</td>\n",
       "      <td>4572.369071</td>\n",
       "      <td>1512264135</td>\n",
       "    </tr>\n",
       "    <tr>\n",
       "      <th>84082</th>\n",
       "      <td>16</td>\n",
       "      <td>38094.676950</td>\n",
       "      <td>1512761665</td>\n",
       "    </tr>\n",
       "    <tr>\n",
       "      <th>150467</th>\n",
       "      <td>16</td>\n",
       "      <td>9256.868626</td>\n",
       "      <td>1512310456</td>\n",
       "    </tr>\n",
       "    <tr>\n",
       "      <th>154939</th>\n",
       "      <td>16</td>\n",
       "      <td>4570.270590</td>\n",
       "      <td>1512266655</td>\n",
       "    </tr>\n",
       "    <tr>\n",
       "      <th>108929</th>\n",
       "      <td>18</td>\n",
       "      <td>110707.158036</td>\n",
       "      <td>1512617298</td>\n",
       "    </tr>\n",
       "    <tr>\n",
       "      <th>119970</th>\n",
       "      <td>18</td>\n",
       "      <td>69300.154000</td>\n",
       "      <td>1512527864</td>\n",
       "    </tr>\n",
       "    <tr>\n",
       "      <th>153506</th>\n",
       "      <td>18</td>\n",
       "      <td>4605.181682</td>\n",
       "      <td>1512280431</td>\n",
       "    </tr>\n",
       "    <tr>\n",
       "      <th>120056</th>\n",
       "      <td>19</td>\n",
       "      <td>69300.154000</td>\n",
       "      <td>1512526783</td>\n",
       "    </tr>\n",
       "    <tr>\n",
       "      <th>152738</th>\n",
       "      <td>19</td>\n",
       "      <td>4652.640879</td>\n",
       "      <td>1512287494</td>\n",
       "    </tr>\n",
       "    <tr>\n",
       "      <th>38952</th>\n",
       "      <td>20</td>\n",
       "      <td>49613.263037</td>\n",
       "      <td>1512994643</td>\n",
       "    </tr>\n",
       "    <tr>\n",
       "      <th>154790</th>\n",
       "      <td>20</td>\n",
       "      <td>4569.982578</td>\n",
       "      <td>1512268267</td>\n",
       "    </tr>\n",
       "    <tr>\n",
       "      <th>90087</th>\n",
       "      <td>21</td>\n",
       "      <td>104404.351719</td>\n",
       "      <td>1512725463</td>\n",
       "    </tr>\n",
       "    <tr>\n",
       "      <th>152940</th>\n",
       "      <td>21</td>\n",
       "      <td>4652.951251</td>\n",
       "      <td>1512285789</td>\n",
       "    </tr>\n",
       "    <tr>\n",
       "      <th>90060</th>\n",
       "      <td>22</td>\n",
       "      <td>98899.875000</td>\n",
       "      <td>1512725676</td>\n",
       "    </tr>\n",
       "    <tr>\n",
       "      <th>135976</th>\n",
       "      <td>22</td>\n",
       "      <td>32833.201046</td>\n",
       "      <td>1512418900</td>\n",
       "    </tr>\n",
       "    <tr>\n",
       "      <th>152663</th>\n",
       "      <td>22</td>\n",
       "      <td>4644.432647</td>\n",
       "      <td>1512288168</td>\n",
       "    </tr>\n",
       "    <tr>\n",
       "      <th>...</th>\n",
       "      <td>...</td>\n",
       "      <td>...</td>\n",
       "      <td>...</td>\n",
       "    </tr>\n",
       "    <tr>\n",
       "      <th>2896</th>\n",
       "      <td>305475</td>\n",
       "      <td>299.165600</td>\n",
       "      <td>1513247031</td>\n",
       "    </tr>\n",
       "    <tr>\n",
       "      <th>3253</th>\n",
       "      <td>305475</td>\n",
       "      <td>176.611968</td>\n",
       "      <td>1513243546</td>\n",
       "    </tr>\n",
       "    <tr>\n",
       "      <th>2077</th>\n",
       "      <td>305509</td>\n",
       "      <td>53.735857</td>\n",
       "      <td>1513255736</td>\n",
       "    </tr>\n",
       "    <tr>\n",
       "      <th>3118</th>\n",
       "      <td>305509</td>\n",
       "      <td>37.421747</td>\n",
       "      <td>1513244674</td>\n",
       "    </tr>\n",
       "    <tr>\n",
       "      <th>2273</th>\n",
       "      <td>305510</td>\n",
       "      <td>13.167805</td>\n",
       "      <td>1513253661</td>\n",
       "    </tr>\n",
       "    <tr>\n",
       "      <th>2274</th>\n",
       "      <td>305510</td>\n",
       "      <td>13.167928</td>\n",
       "      <td>1513253661</td>\n",
       "    </tr>\n",
       "    <tr>\n",
       "      <th>3296</th>\n",
       "      <td>305541</td>\n",
       "      <td>11.825743</td>\n",
       "      <td>1513243316</td>\n",
       "    </tr>\n",
       "    <tr>\n",
       "      <th>3301</th>\n",
       "      <td>305541</td>\n",
       "      <td>11.825743</td>\n",
       "      <td>1513243316</td>\n",
       "    </tr>\n",
       "    <tr>\n",
       "      <th>1338</th>\n",
       "      <td>306185</td>\n",
       "      <td>25.756393</td>\n",
       "      <td>1513262180</td>\n",
       "    </tr>\n",
       "    <tr>\n",
       "      <th>1340</th>\n",
       "      <td>306185</td>\n",
       "      <td>25.729425</td>\n",
       "      <td>1513262119</td>\n",
       "    </tr>\n",
       "    <tr>\n",
       "      <th>639</th>\n",
       "      <td>307059</td>\n",
       "      <td>64.283800</td>\n",
       "      <td>1513268801</td>\n",
       "    </tr>\n",
       "    <tr>\n",
       "      <th>1092</th>\n",
       "      <td>307059</td>\n",
       "      <td>72.644967</td>\n",
       "      <td>1513264071</td>\n",
       "    </tr>\n",
       "    <tr>\n",
       "      <th>704</th>\n",
       "      <td>307252</td>\n",
       "      <td>17.687985</td>\n",
       "      <td>1513268230</td>\n",
       "    </tr>\n",
       "    <tr>\n",
       "      <th>706</th>\n",
       "      <td>307252</td>\n",
       "      <td>17.746646</td>\n",
       "      <td>1513268196</td>\n",
       "    </tr>\n",
       "    <tr>\n",
       "      <th>2324</th>\n",
       "      <td>307685</td>\n",
       "      <td>17.826742</td>\n",
       "      <td>1513253282</td>\n",
       "    </tr>\n",
       "    <tr>\n",
       "      <th>2325</th>\n",
       "      <td>307685</td>\n",
       "      <td>17.826742</td>\n",
       "      <td>1513253282</td>\n",
       "    </tr>\n",
       "    <tr>\n",
       "      <th>1727</th>\n",
       "      <td>308737</td>\n",
       "      <td>37.977615</td>\n",
       "      <td>1513258975</td>\n",
       "    </tr>\n",
       "    <tr>\n",
       "      <th>1948</th>\n",
       "      <td>308737</td>\n",
       "      <td>7.100060</td>\n",
       "      <td>1513256927</td>\n",
       "    </tr>\n",
       "    <tr>\n",
       "      <th>1510</th>\n",
       "      <td>309330</td>\n",
       "      <td>69.350361</td>\n",
       "      <td>1513260880</td>\n",
       "    </tr>\n",
       "    <tr>\n",
       "      <th>1652</th>\n",
       "      <td>309330</td>\n",
       "      <td>14.066452</td>\n",
       "      <td>1513259659</td>\n",
       "    </tr>\n",
       "    <tr>\n",
       "      <th>1383</th>\n",
       "      <td>309560</td>\n",
       "      <td>108.259842</td>\n",
       "      <td>1513261810</td>\n",
       "    </tr>\n",
       "    <tr>\n",
       "      <th>1458</th>\n",
       "      <td>309560</td>\n",
       "      <td>76.288520</td>\n",
       "      <td>1513261246</td>\n",
       "    </tr>\n",
       "    <tr>\n",
       "      <th>1359</th>\n",
       "      <td>309712</td>\n",
       "      <td>13.587675</td>\n",
       "      <td>1513262045</td>\n",
       "    </tr>\n",
       "    <tr>\n",
       "      <th>1362</th>\n",
       "      <td>309712</td>\n",
       "      <td>13.587990</td>\n",
       "      <td>1513262045</td>\n",
       "    </tr>\n",
       "    <tr>\n",
       "      <th>971</th>\n",
       "      <td>310482</td>\n",
       "      <td>25.893357</td>\n",
       "      <td>1513264958</td>\n",
       "    </tr>\n",
       "    <tr>\n",
       "      <th>972</th>\n",
       "      <td>310482</td>\n",
       "      <td>25.893882</td>\n",
       "      <td>1513264958</td>\n",
       "    </tr>\n",
       "    <tr>\n",
       "      <th>939</th>\n",
       "      <td>310491</td>\n",
       "      <td>21.938464</td>\n",
       "      <td>1513265238</td>\n",
       "    </tr>\n",
       "    <tr>\n",
       "      <th>940</th>\n",
       "      <td>310491</td>\n",
       "      <td>21.938434</td>\n",
       "      <td>1513265238</td>\n",
       "    </tr>\n",
       "    <tr>\n",
       "      <th>400</th>\n",
       "      <td>311521</td>\n",
       "      <td>29.822678</td>\n",
       "      <td>1513271221</td>\n",
       "    </tr>\n",
       "    <tr>\n",
       "      <th>402</th>\n",
       "      <td>311521</td>\n",
       "      <td>29.939701</td>\n",
       "      <td>1513271205</td>\n",
       "    </tr>\n",
       "  </tbody>\n",
       "</table>\n",
       "<p>60289 rows × 3 columns</p>\n",
       "</div>"
      ],
      "text/plain": [
       "        cat_id      soldPrice   timeStamp\n",
       "144907       2   70166.100000  1512350196\n",
       "158796       2   23118.331932  1512192871\n",
       "113003       4  107816.488000  1512589317\n",
       "146451       4   22837.184343  1512339029\n",
       "126135       5  101600.520000  1512492301\n",
       "146645       5   22608.334382  1512337186\n",
       "136264       7   87677.342710  1512416747\n",
       "146732       7   22608.958293  1512336526\n",
       "143137       9   40293.315375  1512363328\n",
       "145482       9   22916.050943  1512346478\n",
       "143152      11   34965.818185  1512363216\n",
       "159472      11    4621.192275  1512171958\n",
       "111848      14   67202.265000  1512597598\n",
       "144697      14   11694.350000  1512351659\n",
       "155238      14    4572.369071  1512264135\n",
       "84082       16   38094.676950  1512761665\n",
       "150467      16    9256.868626  1512310456\n",
       "154939      16    4570.270590  1512266655\n",
       "108929      18  110707.158036  1512617298\n",
       "119970      18   69300.154000  1512527864\n",
       "153506      18    4605.181682  1512280431\n",
       "120056      19   69300.154000  1512526783\n",
       "152738      19    4652.640879  1512287494\n",
       "38952       20   49613.263037  1512994643\n",
       "154790      20    4569.982578  1512268267\n",
       "90087       21  104404.351719  1512725463\n",
       "152940      21    4652.951251  1512285789\n",
       "90060       22   98899.875000  1512725676\n",
       "135976      22   32833.201046  1512418900\n",
       "152663      22    4644.432647  1512288168\n",
       "...        ...            ...         ...\n",
       "2896    305475     299.165600  1513247031\n",
       "3253    305475     176.611968  1513243546\n",
       "2077    305509      53.735857  1513255736\n",
       "3118    305509      37.421747  1513244674\n",
       "2273    305510      13.167805  1513253661\n",
       "2274    305510      13.167928  1513253661\n",
       "3296    305541      11.825743  1513243316\n",
       "3301    305541      11.825743  1513243316\n",
       "1338    306185      25.756393  1513262180\n",
       "1340    306185      25.729425  1513262119\n",
       "639     307059      64.283800  1513268801\n",
       "1092    307059      72.644967  1513264071\n",
       "704     307252      17.687985  1513268230\n",
       "706     307252      17.746646  1513268196\n",
       "2324    307685      17.826742  1513253282\n",
       "2325    307685      17.826742  1513253282\n",
       "1727    308737      37.977615  1513258975\n",
       "1948    308737       7.100060  1513256927\n",
       "1510    309330      69.350361  1513260880\n",
       "1652    309330      14.066452  1513259659\n",
       "1383    309560     108.259842  1513261810\n",
       "1458    309560      76.288520  1513261246\n",
       "1359    309712      13.587675  1513262045\n",
       "1362    309712      13.587990  1513262045\n",
       "971     310482      25.893357  1513264958\n",
       "972     310482      25.893882  1513264958\n",
       "939     310491      21.938464  1513265238\n",
       "940     310491      21.938434  1513265238\n",
       "400     311521      29.822678  1513271221\n",
       "402     311521      29.939701  1513271205\n",
       "\n",
       "[60289 rows x 3 columns]"
      ]
     },
     "execution_count": 12,
     "metadata": {},
     "output_type": "execute_result"
    }
   ],
   "source": [
    "pd.concat(g for _, g in price_df.groupby(\"cat_id\") if len(g) > 1)"
   ]
  },
  {
   "cell_type": "markdown",
   "metadata": {},
   "source": [
    "### Leave only last price"
   ]
  },
  {
   "cell_type": "code",
   "execution_count": 13,
   "metadata": {
    "collapsed": false
   },
   "outputs": [],
   "source": [
    "clear_price=price_df.sort_values('timeStamp').drop_duplicates(subset='cat_id', keep='last')"
   ]
  },
  {
   "cell_type": "code",
   "execution_count": 14,
   "metadata": {
    "collapsed": false
   },
   "outputs": [
    {
     "data": {
      "text/html": [
       "<div>\n",
       "<style>\n",
       "    .dataframe thead tr:only-child th {\n",
       "        text-align: right;\n",
       "    }\n",
       "\n",
       "    .dataframe thead th {\n",
       "        text-align: left;\n",
       "    }\n",
       "\n",
       "    .dataframe tbody tr th {\n",
       "        vertical-align: top;\n",
       "    }\n",
       "</style>\n",
       "<table border=\"1\" class=\"dataframe\">\n",
       "  <thead>\n",
       "    <tr style=\"text-align: right;\">\n",
       "      <th></th>\n",
       "      <th>cat_id</th>\n",
       "      <th>soldPrice</th>\n",
       "      <th>timeStamp</th>\n",
       "    </tr>\n",
       "  </thead>\n",
       "  <tbody>\n",
       "    <tr>\n",
       "      <th>144907</th>\n",
       "      <td>2</td>\n",
       "      <td>70166.1</td>\n",
       "      <td>1512350196</td>\n",
       "    </tr>\n",
       "  </tbody>\n",
       "</table>\n",
       "</div>"
      ],
      "text/plain": [
       "        cat_id  soldPrice   timeStamp\n",
       "144907       2    70166.1  1512350196"
      ]
     },
     "execution_count": 14,
     "metadata": {},
     "output_type": "execute_result"
    }
   ],
   "source": [
    "#check\n",
    "clear_price[clear_price['cat_id']==2]"
   ]
  },
  {
   "cell_type": "code",
   "execution_count": 15,
   "metadata": {
    "collapsed": false
   },
   "outputs": [
    {
     "data": {
      "text/plain": [
       "(131503, 3)"
      ]
     },
     "execution_count": 15,
     "metadata": {},
     "output_type": "execute_result"
    }
   ],
   "source": [
    "clear_price.shape"
   ]
  },
  {
   "cell_type": "code",
   "execution_count": 16,
   "metadata": {
    "collapsed": false
   },
   "outputs": [],
   "source": [
    "#save to csv\n",
    "clear_price.to_csv('clear_price160k.csv')"
   ]
  },
  {
   "cell_type": "markdown",
   "metadata": {
    "collapsed": true
   },
   "source": [
    "# NEXT prices"
   ]
  },
  {
   "cell_type": "code",
   "execution_count": 2,
   "metadata": {
    "collapsed": false
   },
   "outputs": [
    {
     "name": "stderr",
     "output_type": "stream",
     "text": [
      "100%|████████████████████████████████████████████████████████████████████████████████| 278/278 [20:24<00:00,  4.40s/it]\n"
     ]
    }
   ],
   "source": [
    "import time\n",
    "res2=[]\n",
    "i=0\n",
    "for off in tqdm(range(164990,192754,100)):\n",
    "    time.sleep(2)\n",
    "    base_url = 'https://kittysales.herokuapp.com/data?offset=%d&count=100&sortBy=timestamp&direction=desc' % (off)\n",
    "    response = requests.get(base_url)\n",
    "    results = response.json()\n",
    "    res2.append(results)\n",
    "    i+=1"
   ]
  },
  {
   "cell_type": "code",
   "execution_count": 3,
   "metadata": {
    "collapsed": false
   },
   "outputs": [],
   "source": [
    "f = csv.writer(open(\"cat_price160_190k.csv\", \"w\"))\n",
    "# header\n",
    "f.writerow([\"cat_id\", \"soldPrice\", \"timeStamp\"])\n",
    "\n",
    "for i in range(111):\n",
    "    for j in range(100):\n",
    "        f.writerow([res2[i]['sales'][j]['returnValues']['0'],\n",
    "              res2[i]['sales'][j]['soldPrice'],\n",
    "              res2[i]['sales'][j]['blocktimeStamp']])\n"
   ]
  },
  {
   "cell_type": "code",
   "execution_count": 4,
   "metadata": {
    "collapsed": false
   },
   "outputs": [],
   "source": [
    "price_df = pd.read_csv('cat_price160k.csv')\n",
    "price_df2 = pd.read_csv('cat_price160_190k.csv')"
   ]
  },
  {
   "cell_type": "code",
   "execution_count": 6,
   "metadata": {
    "collapsed": false
   },
   "outputs": [
    {
     "data": {
      "text/plain": [
       "(10871, 3)"
      ]
     },
     "execution_count": 6,
     "metadata": {},
     "output_type": "execute_result"
    }
   ],
   "source": [
    "price_df2.shape"
   ]
  },
  {
   "cell_type": "code",
   "execution_count": null,
   "metadata": {
    "collapsed": true
   },
   "outputs": [],
   "source": []
  },
  {
   "cell_type": "code",
   "execution_count": 7,
   "metadata": {
    "collapsed": true
   },
   "outputs": [],
   "source": [
    "result = pd.concat([price_df,price_df2])"
   ]
  },
  {
   "cell_type": "code",
   "execution_count": 13,
   "metadata": {
    "collapsed": false
   },
   "outputs": [
    {
     "data": {
      "text/plain": [
       "(175759, 3)"
      ]
     },
     "execution_count": 13,
     "metadata": {},
     "output_type": "execute_result"
    }
   ],
   "source": [
    "result.shape"
   ]
  },
  {
   "cell_type": "code",
   "execution_count": 14,
   "metadata": {
    "collapsed": true
   },
   "outputs": [],
   "source": [
    "clear_price=result.sort_values('timeStamp').drop_duplicates(subset='cat_id', keep='last')"
   ]
  },
  {
   "cell_type": "code",
   "execution_count": 19,
   "metadata": {
    "collapsed": false
   },
   "outputs": [
    {
     "data": {
      "text/html": [
       "<div>\n",
       "<style>\n",
       "    .dataframe thead tr:only-child th {\n",
       "        text-align: right;\n",
       "    }\n",
       "\n",
       "    .dataframe thead th {\n",
       "        text-align: left;\n",
       "    }\n",
       "\n",
       "    .dataframe tbody tr th {\n",
       "        vertical-align: top;\n",
       "    }\n",
       "</style>\n",
       "<table border=\"1\" class=\"dataframe\">\n",
       "  <thead>\n",
       "    <tr style=\"text-align: right;\">\n",
       "      <th></th>\n",
       "      <th>cat_id</th>\n",
       "      <th>soldPrice</th>\n",
       "      <th>timeStamp</th>\n",
       "    </tr>\n",
       "  </thead>\n",
       "  <tbody>\n",
       "    <tr>\n",
       "      <th>14</th>\n",
       "      <td>191067</td>\n",
       "      <td>561.880596</td>\n",
       "      <td>1513274985</td>\n",
       "    </tr>\n",
       "    <tr>\n",
       "      <th>9</th>\n",
       "      <td>275737</td>\n",
       "      <td>6.812125</td>\n",
       "      <td>1513274985</td>\n",
       "    </tr>\n",
       "    <tr>\n",
       "      <th>2</th>\n",
       "      <td>187352</td>\n",
       "      <td>5.765192</td>\n",
       "      <td>1513275014</td>\n",
       "    </tr>\n",
       "    <tr>\n",
       "      <th>1</th>\n",
       "      <td>102645</td>\n",
       "      <td>4.772378</td>\n",
       "      <td>1513275014</td>\n",
       "    </tr>\n",
       "    <tr>\n",
       "      <th>0</th>\n",
       "      <td>310050</td>\n",
       "      <td>56.130667</td>\n",
       "      <td>1513275041</td>\n",
       "    </tr>\n",
       "  </tbody>\n",
       "</table>\n",
       "</div>"
      ],
      "text/plain": [
       "    cat_id   soldPrice   timeStamp\n",
       "14  191067  561.880596  1513274985\n",
       "9   275737    6.812125  1513274985\n",
       "2   187352    5.765192  1513275014\n",
       "1   102645    4.772378  1513275014\n",
       "0   310050   56.130667  1513275041"
      ]
     },
     "execution_count": 19,
     "metadata": {},
     "output_type": "execute_result"
    }
   ],
   "source": [
    "clear_price.tail()"
   ]
  },
  {
   "cell_type": "code",
   "execution_count": 21,
   "metadata": {
    "collapsed": false
   },
   "outputs": [],
   "source": [
    "import datetime\n",
    "df=clear_price\n",
    "df['dateSold'] = df['timeStamp'].apply(datetime.datetime.fromtimestamp)\n",
    "df['date']=df['dateSold'].apply(lambda x : x.date())"
   ]
  },
  {
   "cell_type": "code",
   "execution_count": null,
   "metadata": {
    "collapsed": true
   },
   "outputs": [],
   "source": []
  },
  {
   "cell_type": "code",
   "execution_count": 22,
   "metadata": {
    "collapsed": true
   },
   "outputs": [],
   "source": [
    "df = df.sort_values('date')"
   ]
  },
  {
   "cell_type": "code",
   "execution_count": 23,
   "metadata": {
    "collapsed": false
   },
   "outputs": [
    {
     "data": {
      "text/html": [
       "<div>\n",
       "<style>\n",
       "    .dataframe thead tr:only-child th {\n",
       "        text-align: right;\n",
       "    }\n",
       "\n",
       "    .dataframe thead th {\n",
       "        text-align: left;\n",
       "    }\n",
       "\n",
       "    .dataframe tbody tr th {\n",
       "        vertical-align: top;\n",
       "    }\n",
       "</style>\n",
       "<table border=\"1\" class=\"dataframe\">\n",
       "  <thead>\n",
       "    <tr style=\"text-align: right;\">\n",
       "      <th></th>\n",
       "      <th>cat_id</th>\n",
       "      <th>soldPrice</th>\n",
       "      <th>timeStamp</th>\n",
       "      <th>dateSold</th>\n",
       "      <th>date</th>\n",
       "    </tr>\n",
       "  </thead>\n",
       "  <tbody>\n",
       "    <tr>\n",
       "      <th>6147</th>\n",
       "      <td>254314</td>\n",
       "      <td>6.517503</td>\n",
       "      <td>1513219810</td>\n",
       "      <td>2017-12-14 05:50:10</td>\n",
       "      <td>2017-12-14</td>\n",
       "    </tr>\n",
       "    <tr>\n",
       "      <th>6146</th>\n",
       "      <td>261772</td>\n",
       "      <td>9.639342</td>\n",
       "      <td>1513219810</td>\n",
       "      <td>2017-12-14 05:50:10</td>\n",
       "      <td>2017-12-14</td>\n",
       "    </tr>\n",
       "    <tr>\n",
       "      <th>6145</th>\n",
       "      <td>5603</td>\n",
       "      <td>18.799174</td>\n",
       "      <td>1513219831</td>\n",
       "      <td>2017-12-14 05:50:31</td>\n",
       "      <td>2017-12-14</td>\n",
       "    </tr>\n",
       "    <tr>\n",
       "      <th>6152</th>\n",
       "      <td>291115</td>\n",
       "      <td>24.253560</td>\n",
       "      <td>1513219747</td>\n",
       "      <td>2017-12-14 05:49:07</td>\n",
       "      <td>2017-12-14</td>\n",
       "    </tr>\n",
       "    <tr>\n",
       "      <th>0</th>\n",
       "      <td>310050</td>\n",
       "      <td>56.130667</td>\n",
       "      <td>1513275041</td>\n",
       "      <td>2017-12-14 21:10:41</td>\n",
       "      <td>2017-12-14</td>\n",
       "    </tr>\n",
       "  </tbody>\n",
       "</table>\n",
       "</div>"
      ],
      "text/plain": [
       "      cat_id  soldPrice   timeStamp            dateSold        date\n",
       "6147  254314   6.517503  1513219810 2017-12-14 05:50:10  2017-12-14\n",
       "6146  261772   9.639342  1513219810 2017-12-14 05:50:10  2017-12-14\n",
       "6145    5603  18.799174  1513219831 2017-12-14 05:50:31  2017-12-14\n",
       "6152  291115  24.253560  1513219747 2017-12-14 05:49:07  2017-12-14\n",
       "0     310050  56.130667  1513275041 2017-12-14 21:10:41  2017-12-14"
      ]
     },
     "execution_count": 23,
     "metadata": {},
     "output_type": "execute_result"
    }
   ],
   "source": [
    "df.tail()"
   ]
  },
  {
   "cell_type": "code",
   "execution_count": null,
   "metadata": {
    "collapsed": true
   },
   "outputs": [],
   "source": []
  },
  {
   "cell_type": "code",
   "execution_count": null,
   "metadata": {
    "collapsed": true
   },
   "outputs": [],
   "source": []
  },
  {
   "cell_type": "code",
   "execution_count": null,
   "metadata": {
    "collapsed": true
   },
   "outputs": [],
   "source": []
  },
  {
   "cell_type": "code",
   "execution_count": 17,
   "metadata": {
    "collapsed": true
   },
   "outputs": [],
   "source": [
    "result.to_csv('unclear_price190k.csv', index=False)"
   ]
  },
  {
   "cell_type": "code",
   "execution_count": null,
   "metadata": {
    "collapsed": true
   },
   "outputs": [],
   "source": []
  },
  {
   "cell_type": "code",
   "execution_count": 16,
   "metadata": {
    "collapsed": true
   },
   "outputs": [],
   "source": [
    "clear_price.to_csv('clear_price190k.csv', index=False)"
   ]
  },
  {
   "cell_type": "code",
   "execution_count": null,
   "metadata": {
    "collapsed": true
   },
   "outputs": [],
   "source": []
  }
 ],
 "metadata": {
  "kernelspec": {
   "display_name": "Python 3",
   "language": "python",
   "name": "python3"
  },
  "language_info": {
   "codemirror_mode": {
    "name": "ipython",
    "version": 3
   },
   "file_extension": ".py",
   "mimetype": "text/x-python",
   "name": "python",
   "nbconvert_exporter": "python",
   "pygments_lexer": "ipython3",
   "version": "3.5.2"
  }
 },
 "nbformat": 4,
 "nbformat_minor": 2
}
