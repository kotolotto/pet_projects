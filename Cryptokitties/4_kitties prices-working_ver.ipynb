{
 "cells": [
  {
   "cell_type": "code",
   "execution_count": 758,
   "metadata": {
    "collapsed": true
   },
   "outputs": [],
   "source": [
    "import pandas as pd\n",
    "import numpy as np\n",
    "import seaborn as sns\n",
    "from matplotlib import pyplot as plt\n",
    "from sklearn.preprocessing import LabelEncoder, OneHotEncoder\n",
    "from sklearn.model_selection import train_test_split, cross_val_score\n",
    "\n",
    "import datetime\n",
    "\n",
    "%matplotlib inline"
   ]
  },
  {
   "cell_type": "markdown",
   "metadata": {},
   "source": [
    "# Get data"
   ]
  },
  {
   "cell_type": "code",
   "execution_count": 759,
   "metadata": {
    "collapsed": false
   },
   "outputs": [],
   "source": [
    "cat_data = pd.read_csv('markedcats_13_12.csv')\n",
    "cat_price=pd.read_csv('clear_price190k.csv')\n",
    "\n",
    "with open(\"fancy14_12.txt\") as file:\n",
    "    lines = [line.strip() for line in file]\n",
    "fancy = list(map(int, lines))"
   ]
  },
  {
   "cell_type": "code",
   "execution_count": 760,
   "metadata": {
    "collapsed": false
   },
   "outputs": [
    {
     "data": {
      "text/html": [
       "<div>\n",
       "<style>\n",
       "    .dataframe thead tr:only-child th {\n",
       "        text-align: right;\n",
       "    }\n",
       "\n",
       "    .dataframe thead th {\n",
       "        text-align: left;\n",
       "    }\n",
       "\n",
       "    .dataframe tbody tr th {\n",
       "        vertical-align: top;\n",
       "    }\n",
       "</style>\n",
       "<table border=\"1\" class=\"dataframe\">\n",
       "  <thead>\n",
       "    <tr style=\"text-align: right;\">\n",
       "      <th></th>\n",
       "      <th>num</th>\n",
       "      <th>isGestating</th>\n",
       "      <th>isReady</th>\n",
       "      <th>cooldownIndex</th>\n",
       "      <th>nextActionAt</th>\n",
       "      <th>siringWithId</th>\n",
       "      <th>birthTime</th>\n",
       "      <th>matronId</th>\n",
       "      <th>sireId</th>\n",
       "      <th>generation</th>\n",
       "      <th>genes</th>\n",
       "      <th>breed</th>\n",
       "      <th>prim_col</th>\n",
       "      <th>sec_col</th>\n",
       "      <th>pat_col</th>\n",
       "      <th>pat_type</th>\n",
       "      <th>eye_type</th>\n",
       "      <th>eye_col</th>\n",
       "      <th>mouth</th>\n",
       "    </tr>\n",
       "  </thead>\n",
       "  <tbody>\n",
       "    <tr>\n",
       "      <th>0</th>\n",
       "      <td>0</td>\n",
       "      <td>False</td>\n",
       "      <td>True</td>\n",
       "      <td>0</td>\n",
       "      <td>0</td>\n",
       "      <td>0</td>\n",
       "      <td>1511415679</td>\n",
       "      <td>0</td>\n",
       "      <td>0</td>\n",
       "      <td>0</td>\n",
       "      <td>0xffffffffffffffffffffffffffffffffffffffffffff...</td>\n",
       "      <td>ragdoll</td>\n",
       "      <td>unknown</td>\n",
       "      <td>unknown</td>\n",
       "      <td>unknown</td>\n",
       "      <td>totesbasic</td>\n",
       "      <td>unknown</td>\n",
       "      <td>unknown</td>\n",
       "      <td>soserious</td>\n",
       "    </tr>\n",
       "    <tr>\n",
       "      <th>1</th>\n",
       "      <td>1</td>\n",
       "      <td>False</td>\n",
       "      <td>True</td>\n",
       "      <td>0</td>\n",
       "      <td>0</td>\n",
       "      <td>0</td>\n",
       "      <td>1511417999</td>\n",
       "      <td>0</td>\n",
       "      <td>0</td>\n",
       "      <td>0</td>\n",
       "      <td>0x5ad2b318e6724ce4b9290146531884721ad18c63298a...</td>\n",
       "      <td>sphynx</td>\n",
       "      <td>orangesoda</td>\n",
       "      <td>granitegrey</td>\n",
       "      <td>lemonade</td>\n",
       "      <td>jaguar</td>\n",
       "      <td>simple</td>\n",
       "      <td>sizzurp</td>\n",
       "      <td>pouty</td>\n",
       "    </tr>\n",
       "    <tr>\n",
       "      <th>2</th>\n",
       "      <td>2</td>\n",
       "      <td>False</td>\n",
       "      <td>True</td>\n",
       "      <td>0</td>\n",
       "      <td>0</td>\n",
       "      <td>0</td>\n",
       "      <td>1511417999</td>\n",
       "      <td>0</td>\n",
       "      <td>0</td>\n",
       "      <td>0</td>\n",
       "      <td>0x5a50b310c470c614b90f294a321086318c618c63294e...</td>\n",
       "      <td>himalayan</td>\n",
       "      <td>orangesoda</td>\n",
       "      <td>kittencream</td>\n",
       "      <td>blurple</td>\n",
       "      <td>jaguar</td>\n",
       "      <td>simple</td>\n",
       "      <td>chestnut</td>\n",
       "      <td>soserious</td>\n",
       "    </tr>\n",
       "    <tr>\n",
       "      <th>3</th>\n",
       "      <td>3</td>\n",
       "      <td>False</td>\n",
       "      <td>True</td>\n",
       "      <td>0</td>\n",
       "      <td>0</td>\n",
       "      <td>0</td>\n",
       "      <td>1511417999</td>\n",
       "      <td>0</td>\n",
       "      <td>0</td>\n",
       "      <td>0</td>\n",
       "      <td>0x4ad09294e5738ce42129294a5210c43190e18c63298e...</td>\n",
       "      <td>himalayan</td>\n",
       "      <td>orangesoda</td>\n",
       "      <td>granitegrey</td>\n",
       "      <td>chocolate</td>\n",
       "      <td>jaguar</td>\n",
       "      <td>simple</td>\n",
       "      <td>strawberry</td>\n",
       "      <td>pouty</td>\n",
       "    </tr>\n",
       "    <tr>\n",
       "      <th>4</th>\n",
       "      <td>4</td>\n",
       "      <td>False</td>\n",
       "      <td>True</td>\n",
       "      <td>2</td>\n",
       "      <td>4675193</td>\n",
       "      <td>0</td>\n",
       "      <td>1511417999</td>\n",
       "      <td>0</td>\n",
       "      <td>0</td>\n",
       "      <td>0</td>\n",
       "      <td>0x5ad2b214e5085ce7210f0140531084739ac18c63394a...</td>\n",
       "      <td>ragamaffin</td>\n",
       "      <td>orangesoda</td>\n",
       "      <td>granitegrey</td>\n",
       "      <td>coffee</td>\n",
       "      <td>jaguar</td>\n",
       "      <td>thicccbrowz</td>\n",
       "      <td>chestnut</td>\n",
       "      <td>soserious</td>\n",
       "    </tr>\n",
       "  </tbody>\n",
       "</table>\n",
       "</div>"
      ],
      "text/plain": [
       "   num  isGestating  isReady  cooldownIndex  nextActionAt  siringWithId  \\\n",
       "0    0        False     True              0             0             0   \n",
       "1    1        False     True              0             0             0   \n",
       "2    2        False     True              0             0             0   \n",
       "3    3        False     True              0             0             0   \n",
       "4    4        False     True              2       4675193             0   \n",
       "\n",
       "    birthTime  matronId  sireId  generation  \\\n",
       "0  1511415679         0       0           0   \n",
       "1  1511417999         0       0           0   \n",
       "2  1511417999         0       0           0   \n",
       "3  1511417999         0       0           0   \n",
       "4  1511417999         0       0           0   \n",
       "\n",
       "                                               genes       breed    prim_col  \\\n",
       "0  0xffffffffffffffffffffffffffffffffffffffffffff...     ragdoll     unknown   \n",
       "1  0x5ad2b318e6724ce4b9290146531884721ad18c63298a...      sphynx  orangesoda   \n",
       "2  0x5a50b310c470c614b90f294a321086318c618c63294e...   himalayan  orangesoda   \n",
       "3  0x4ad09294e5738ce42129294a5210c43190e18c63298e...   himalayan  orangesoda   \n",
       "4  0x5ad2b214e5085ce7210f0140531084739ac18c63394a...  ragamaffin  orangesoda   \n",
       "\n",
       "       sec_col    pat_col    pat_type     eye_type     eye_col      mouth  \n",
       "0      unknown    unknown  totesbasic      unknown     unknown  soserious  \n",
       "1  granitegrey   lemonade      jaguar       simple     sizzurp      pouty  \n",
       "2  kittencream    blurple      jaguar       simple    chestnut  soserious  \n",
       "3  granitegrey  chocolate      jaguar       simple  strawberry      pouty  \n",
       "4  granitegrey     coffee      jaguar  thicccbrowz    chestnut  soserious  "
      ]
     },
     "execution_count": 760,
     "metadata": {},
     "output_type": "execute_result"
    }
   ],
   "source": [
    "cat_data.head()"
   ]
  },
  {
   "cell_type": "code",
   "execution_count": 761,
   "metadata": {
    "collapsed": false
   },
   "outputs": [
    {
     "data": {
      "text/plain": [
       "(131510, 3)"
      ]
     },
     "execution_count": 761,
     "metadata": {},
     "output_type": "execute_result"
    }
   ],
   "source": [
    "cat_price.shape"
   ]
  },
  {
   "cell_type": "code",
   "execution_count": 762,
   "metadata": {
    "collapsed": true
   },
   "outputs": [],
   "source": [
    "#remove unformatted data\n",
    "cat_data=cat_data.drop(cat_data.index[0])"
   ]
  },
  {
   "cell_type": "code",
   "execution_count": 763,
   "metadata": {
    "collapsed": false
   },
   "outputs": [
    {
     "data": {
      "text/plain": [
       "(284964, 19)"
      ]
     },
     "execution_count": 763,
     "metadata": {},
     "output_type": "execute_result"
    }
   ],
   "source": [
    "cat_data.shape"
   ]
  },
  {
   "cell_type": "markdown",
   "metadata": {},
   "source": [
    "#### Mark or remove fancy"
   ]
  },
  {
   "cell_type": "code",
   "execution_count": 764,
   "metadata": {
    "collapsed": false
   },
   "outputs": [
    {
     "data": {
      "text/plain": [
       "(5438, 20)"
      ]
     },
     "execution_count": 764,
     "metadata": {},
     "output_type": "execute_result"
    }
   ],
   "source": [
    "# check for fancy in later cells\n",
    "cat_data['fancy']=cat_data['num'].apply(lambda x: 1 if x in fancy else 0)\n",
    "\n",
    "cat_data[cat_data['fancy']==1].shape"
   ]
  },
  {
   "cell_type": "code",
   "execution_count": 765,
   "metadata": {
    "collapsed": true
   },
   "outputs": [],
   "source": [
    "#cat_data = cat_data[~cat_data['num'].isin(fancy)]"
   ]
  },
  {
   "cell_type": "code",
   "execution_count": 766,
   "metadata": {
    "collapsed": false
   },
   "outputs": [
    {
     "data": {
      "text/plain": [
       "(284964, 20)"
      ]
     },
     "execution_count": 766,
     "metadata": {},
     "output_type": "execute_result"
    }
   ],
   "source": [
    "cat_data.shape"
   ]
  },
  {
   "cell_type": "markdown",
   "metadata": {},
   "source": [
    "## Del or format features"
   ]
  },
  {
   "cell_type": "markdown",
   "metadata": {},
   "source": [
    "#### Del gen 0"
   ]
  },
  {
   "cell_type": "code",
   "execution_count": 767,
   "metadata": {
    "collapsed": true
   },
   "outputs": [],
   "source": [
    "cat_data = cat_data[cat_data.generation != 0]\n",
    "#cat_data = cat_data[cat_data.generation != 1]\n",
    "#cat_data = cat_data[cat_data.generation != 2]"
   ]
  },
  {
   "cell_type": "code",
   "execution_count": 768,
   "metadata": {
    "collapsed": false
   },
   "outputs": [
    {
     "data": {
      "text/plain": [
       "(280723, 20)"
      ]
     },
     "execution_count": 768,
     "metadata": {},
     "output_type": "execute_result"
    }
   ],
   "source": [
    "cat_data.shape"
   ]
  },
  {
   "cell_type": "markdown",
   "metadata": {},
   "source": [
    "#### Del unnecessary features"
   ]
  },
  {
   "cell_type": "code",
   "execution_count": 769,
   "metadata": {
    "collapsed": true
   },
   "outputs": [],
   "source": [
    "cat_data=cat_data.drop('nextActionAt',axis=1)\n",
    "cat_data=cat_data.drop('genes',axis=1)\n",
    "#cat_data=cat_data.drop('siringWithId',axis=1)\n",
    "cat_data=cat_data.drop('matronId',axis=1) #будут присутствовать у всех generation>0\n",
    "cat_data=cat_data.drop('sireId',axis=1) #будут присутствовать у всех generation>0\n",
    "#cat_data=cat_data.drop('birthTime',axis=1) #возможно стоит перевести в datetime и оставить день-месяц\n"
   ]
  },
  {
   "cell_type": "code",
   "execution_count": 770,
   "metadata": {
    "collapsed": false
   },
   "outputs": [
    {
     "data": {
      "text/plain": [
       "(280723, 16)"
      ]
     },
     "execution_count": 770,
     "metadata": {},
     "output_type": "execute_result"
    }
   ],
   "source": [
    "cat_data.shape"
   ]
  },
  {
   "cell_type": "markdown",
   "metadata": {},
   "source": [
    "#### Format true/false"
   ]
  },
  {
   "cell_type": "code",
   "execution_count": 771,
   "metadata": {
    "collapsed": true
   },
   "outputs": [],
   "source": [
    "cat_data.isGestating = cat_data.isGestating.astype(int)\n",
    "cat_data.isReady = cat_data.isReady.astype(int)"
   ]
  },
  {
   "cell_type": "code",
   "execution_count": 772,
   "metadata": {
    "collapsed": true
   },
   "outputs": [],
   "source": [
    "# siringwith \n",
    "cat_data['siringWithId']=cat_data['siringWithId'].apply(lambda x: 1 if x!=0 else 0)"
   ]
  },
  {
   "cell_type": "code",
   "execution_count": 773,
   "metadata": {
    "collapsed": true
   },
   "outputs": [],
   "source": [
    "cat_data['birthTime'] = cat_data['birthTime'].apply(datetime.datetime.fromtimestamp)"
   ]
  },
  {
   "cell_type": "markdown",
   "metadata": {
    "collapsed": true
   },
   "source": [
    "## Ohe"
   ]
  },
  {
   "cell_type": "markdown",
   "metadata": {},
   "source": [
    "#### label ohe"
   ]
  },
  {
   "cell_type": "code",
   "execution_count": 774,
   "metadata": {
    "collapsed": false
   },
   "outputs": [],
   "source": [
    "#check fancy\n",
    "cat_df=pd.concat([cat_data[['num', 'isGestating', 'isReady','siringWithId','cooldownIndex', 'generation','fancy','birthTime']], pd.get_dummies(cat_data[['breed',\n",
    "       'prim_col', 'sec_col', 'pat_col', 'pat_type', 'eye_type', 'mouth',\n",
    "       'eye_col']])], axis=1)"
   ]
  },
  {
   "cell_type": "markdown",
   "metadata": {},
   "source": [
    "#### ohe"
   ]
  },
  {
   "cell_type": "code",
   "execution_count": 775,
   "metadata": {
    "collapsed": true
   },
   "outputs": [],
   "source": [
    "temp=pd.get_dummies(cat_data['cooldownIndex'],prefix='cd')\n",
    "cat_df=pd.concat([cat_df,temp],axis=1)\n",
    "cat_df=cat_df.drop('cooldownIndex',axis=1)"
   ]
  },
  {
   "cell_type": "code",
   "execution_count": 776,
   "metadata": {
    "collapsed": true
   },
   "outputs": [],
   "source": [
    "temp2=pd.get_dummies(cat_data['generation'],prefix='gen')\n",
    "cat_df=pd.concat([cat_df,temp2],axis=1)\n",
    "cat_df=cat_df.drop('generation',axis=1)"
   ]
  },
  {
   "cell_type": "markdown",
   "metadata": {},
   "source": [
    "## FEATURES"
   ]
  },
  {
   "cell_type": "markdown",
   "metadata": {},
   "source": [
    "### rare"
   ]
  },
  {
   "cell_type": "code",
   "execution_count": 777,
   "metadata": {
    "collapsed": true
   },
   "outputs": [],
   "source": [
    "cat_df['dateBirth']=cat_df['birthTime'].apply(lambda x : x.date())"
   ]
  },
  {
   "cell_type": "code",
   "execution_count": 778,
   "metadata": {
    "collapsed": true
   },
   "outputs": [],
   "source": [
    "rare_feats=['eye_type_wingtips','pat_col_wolfgrey','breed_mainecoon','prim_col_oldlace',\\\n",
    "            'pat_col_cerulian','pat_col_violet','eye_type_fabulous','breed_chartreux',\\\n",
    "            'pat_type_jaguar','mouth_gerbil','prim_col_cottoncandy','mouth_dali','mouth_whixtensions',\\\n",
    "            'eye_col_bubblegum','sec_col_peach','eye_type_otaku','pat_type_tigerpunk','mouth_beard']"
   ]
  },
  {
   "cell_type": "code",
   "execution_count": 779,
   "metadata": {
    "collapsed": false
   },
   "outputs": [],
   "source": [
    "df_cs=pd.DataFrame(columns = rare_feats)\n",
    "for i in rare_feats:\n",
    "    df_c=cat_df.groupby(cat_df.dateBirth)[[i]].sum()\n",
    "    df_cs[i]= df_c[i].cumsum()/cat_df.shape[0]\n",
    "df_cs.columns=[s + '_cs' for s in rare_feats]\n",
    "df_cs['dateBirth']=df_cs.index"
   ]
  },
  {
   "cell_type": "code",
   "execution_count": 780,
   "metadata": {
    "collapsed": false
   },
   "outputs": [],
   "source": [
    "merged_rare = pd.merge(left=cat_df,right=df_cs, how='left', left_on='dateBirth', right_on='dateBirth')"
   ]
  },
  {
   "cell_type": "markdown",
   "metadata": {},
   "source": [
    "### common"
   ]
  },
  {
   "cell_type": "code",
   "execution_count": 781,
   "metadata": {
    "collapsed": true
   },
   "outputs": [],
   "source": [
    "common_feats=['pat_type_totesbasic', 'sec_col_granitegrey', 'sec_col_kittencream', \\\n",
    "              'pat_type_luckystripe', 'eye_type_thicccbrowz', 'eye_type_crazy', 'mouth_pouty',\\\n",
    "             'breed_himalayan', 'eye_col_sizzurp', 'breed_ragamaffin', 'mouth_happygokitty', 'mouth_soserious',\\\n",
    "              'eye_col_strawberry','prim_col_orangesoda','prim_col_aquamarine','mouth_saycheese','breed_munchkin',\\\n",
    "              'eye_type_raisedbrow','eye_type_simple','eye_col_topaz','breed_sphynx','pat_col_chocolate']"
   ]
  },
  {
   "cell_type": "code",
   "execution_count": 782,
   "metadata": {
    "collapsed": false
   },
   "outputs": [],
   "source": [
    "df_cs2=pd.DataFrame(columns = common_feats)\n",
    "for i in common_feats:\n",
    "    df_c2=cat_df.groupby(cat_df.dateBirth)[[i]].sum()\n",
    "    df_cs2[i]= df_c2[i].cumsum()/cat_df.shape[0]\n",
    "df_cs2.columns=[s + '_cs' for s in common_feats]\n",
    "df_cs2['dateBirth']=df_cs2.index"
   ]
  },
  {
   "cell_type": "code",
   "execution_count": 783,
   "metadata": {
    "collapsed": false
   },
   "outputs": [],
   "source": [
    "merged_rare_common = pd.merge(left=merged_rare,right=df_cs2, how='left', left_on='dateBirth', right_on='dateBirth')"
   ]
  },
  {
   "cell_type": "code",
   "execution_count": 784,
   "metadata": {
    "collapsed": false
   },
   "outputs": [
    {
     "data": {
      "text/plain": [
       "(280723, 225)"
      ]
     },
     "execution_count": 784,
     "metadata": {},
     "output_type": "execute_result"
    }
   ],
   "source": [
    "merged_rare_common.shape"
   ]
  },
  {
   "cell_type": "code",
   "execution_count": 785,
   "metadata": {
    "collapsed": true
   },
   "outputs": [],
   "source": [
    "cat_df=merged_rare_common"
   ]
  },
  {
   "cell_type": "markdown",
   "metadata": {
    "collapsed": true
   },
   "source": [
    "## Merge kitties features with kitties prices"
   ]
  },
  {
   "cell_type": "code",
   "execution_count": 786,
   "metadata": {
    "collapsed": false
   },
   "outputs": [
    {
     "data": {
      "text/plain": [
       "(131510, 3)"
      ]
     },
     "execution_count": 786,
     "metadata": {},
     "output_type": "execute_result"
    }
   ],
   "source": [
    "cat_price.shape"
   ]
  },
  {
   "cell_type": "code",
   "execution_count": 787,
   "metadata": {
    "collapsed": false
   },
   "outputs": [],
   "source": [
    "#cat_price= cat_price.drop('Unnamed: 0', axis=1)"
   ]
  },
  {
   "cell_type": "code",
   "execution_count": 788,
   "metadata": {
    "collapsed": false
   },
   "outputs": [
    {
     "data": {
      "text/plain": [
       "(124827, 228)"
      ]
     },
     "execution_count": 788,
     "metadata": {},
     "output_type": "execute_result"
    }
   ],
   "source": [
    "df= pd.merge(cat_df, cat_price, left_on = 'num', right_on = 'cat_id')\n",
    "df.shape"
   ]
  },
  {
   "cell_type": "markdown",
   "metadata": {
    "collapsed": false
   },
   "source": [
    "## New date features"
   ]
  },
  {
   "cell_type": "code",
   "execution_count": 789,
   "metadata": {
    "collapsed": false
   },
   "outputs": [],
   "source": [
    "df['dateSold'] = df['timeStamp'].apply(datetime.datetime.fromtimestamp)"
   ]
  },
  {
   "cell_type": "code",
   "execution_count": 790,
   "metadata": {
    "collapsed": false
   },
   "outputs": [],
   "source": [
    "df['hourSold']=df['dateSold'].apply(lambda x: x.hour)"
   ]
  },
  {
   "cell_type": "code",
   "execution_count": 791,
   "metadata": {
    "collapsed": false
   },
   "outputs": [],
   "source": [
    "#list(set(df.hourSold))"
   ]
  },
  {
   "cell_type": "code",
   "execution_count": 792,
   "metadata": {
    "collapsed": false
   },
   "outputs": [],
   "source": [
    "df['weekday']=df['dateSold'].apply(lambda x: x.isoweekday())"
   ]
  },
  {
   "cell_type": "code",
   "execution_count": 793,
   "metadata": {
    "collapsed": false
   },
   "outputs": [],
   "source": [
    "df['weekend']=df['weekday'].apply(lambda x: 1 if x in [6,7] else 0)"
   ]
  },
  {
   "cell_type": "code",
   "execution_count": 794,
   "metadata": {
    "collapsed": true
   },
   "outputs": [],
   "source": [
    "df['evening']=df['hourSold'].apply(lambda x: 0 if x in range(3,18) else 1)"
   ]
  },
  {
   "cell_type": "code",
   "execution_count": 795,
   "metadata": {
    "collapsed": true
   },
   "outputs": [],
   "source": [
    "df['age']=df['dateSold'].apply(lambda x : x.date())-df['birthTime'].apply(lambda x : x.date())"
   ]
  },
  {
   "cell_type": "code",
   "execution_count": 796,
   "metadata": {
    "collapsed": false
   },
   "outputs": [],
   "source": [
    "df['age']=df['age']/np.timedelta64(1, 'D')\n",
    "df['age']=df['age'].apply(lambda x: int(x))"
   ]
  },
  {
   "cell_type": "markdown",
   "metadata": {},
   "source": [
    "#### ohe"
   ]
  },
  {
   "cell_type": "code",
   "execution_count": 797,
   "metadata": {
    "collapsed": false
   },
   "outputs": [],
   "source": [
    "temp=pd.get_dummies(df['hourSold'],prefix='h')\n",
    "df=pd.concat([df,temp],axis=1)\n",
    "df=df.drop('hourSold',axis=1)\n",
    "temp2=pd.get_dummies(df['weekday'],prefix='wd')\n",
    "df=pd.concat([df,temp2],axis=1)\n",
    "df=df.drop('weekday',axis=1)"
   ]
  },
  {
   "cell_type": "markdown",
   "metadata": {},
   "source": [
    "### Median price by day"
   ]
  },
  {
   "cell_type": "code",
   "execution_count": 798,
   "metadata": {
    "collapsed": false
   },
   "outputs": [],
   "source": [
    "df['date']=df['dateSold'].apply(lambda x : x.date())\n",
    "df_medSold=df.groupby(df.dateSold.dt.date)[['soldPrice']].median()\n",
    "df_medSold['date'] = df_medSold.index\n",
    "df_medSold=df_medSold.rename(columns = {'soldPrice':'medPrice'})"
   ]
  },
  {
   "cell_type": "markdown",
   "metadata": {},
   "source": [
    "### Mean price by day"
   ]
  },
  {
   "cell_type": "code",
   "execution_count": 799,
   "metadata": {
    "collapsed": false
   },
   "outputs": [],
   "source": [
    "df_meanSold=df.groupby(df.dateSold.dt.date)[['soldPrice']].mean()\n",
    "df_meanSold['date'] = df_meanSold.index\n",
    "df_meanSold=df_meanSold.rename(columns = {'soldPrice':'meanPrice'})"
   ]
  },
  {
   "cell_type": "code",
   "execution_count": 800,
   "metadata": {
    "collapsed": false
   },
   "outputs": [
    {
     "data": {
      "text/html": [
       "<div>\n",
       "<style>\n",
       "    .dataframe thead tr:only-child th {\n",
       "        text-align: right;\n",
       "    }\n",
       "\n",
       "    .dataframe thead th {\n",
       "        text-align: left;\n",
       "    }\n",
       "\n",
       "    .dataframe tbody tr th {\n",
       "        vertical-align: top;\n",
       "    }\n",
       "</style>\n",
       "<table border=\"1\" class=\"dataframe\">\n",
       "  <thead>\n",
       "    <tr style=\"text-align: right;\">\n",
       "      <th></th>\n",
       "      <th>medPrice</th>\n",
       "      <th>date</th>\n",
       "    </tr>\n",
       "    <tr>\n",
       "      <th>dateSold</th>\n",
       "      <th></th>\n",
       "      <th></th>\n",
       "    </tr>\n",
       "  </thead>\n",
       "  <tbody>\n",
       "    <tr>\n",
       "      <th>2017-11-24</th>\n",
       "      <td>8.166180</td>\n",
       "      <td>2017-11-24</td>\n",
       "    </tr>\n",
       "    <tr>\n",
       "      <th>2017-11-25</th>\n",
       "      <td>4.265795</td>\n",
       "      <td>2017-11-25</td>\n",
       "    </tr>\n",
       "    <tr>\n",
       "      <th>2017-11-26</th>\n",
       "      <td>2.289915</td>\n",
       "      <td>2017-11-26</td>\n",
       "    </tr>\n",
       "    <tr>\n",
       "      <th>2017-11-27</th>\n",
       "      <td>2.378905</td>\n",
       "      <td>2017-11-27</td>\n",
       "    </tr>\n",
       "    <tr>\n",
       "      <th>2017-11-28</th>\n",
       "      <td>2.407653</td>\n",
       "      <td>2017-11-28</td>\n",
       "    </tr>\n",
       "    <tr>\n",
       "      <th>2017-11-29</th>\n",
       "      <td>4.841811</td>\n",
       "      <td>2017-11-29</td>\n",
       "    </tr>\n",
       "    <tr>\n",
       "      <th>2017-11-30</th>\n",
       "      <td>4.492083</td>\n",
       "      <td>2017-11-30</td>\n",
       "    </tr>\n",
       "    <tr>\n",
       "      <th>2017-12-01</th>\n",
       "      <td>2.560380</td>\n",
       "      <td>2017-12-01</td>\n",
       "    </tr>\n",
       "    <tr>\n",
       "      <th>2017-12-02</th>\n",
       "      <td>2.327668</td>\n",
       "      <td>2017-12-02</td>\n",
       "    </tr>\n",
       "    <tr>\n",
       "      <th>2017-12-03</th>\n",
       "      <td>8.635878</td>\n",
       "      <td>2017-12-03</td>\n",
       "    </tr>\n",
       "    <tr>\n",
       "      <th>2017-12-04</th>\n",
       "      <td>38.017573</td>\n",
       "      <td>2017-12-04</td>\n",
       "    </tr>\n",
       "    <tr>\n",
       "      <th>2017-12-05</th>\n",
       "      <td>35.252922</td>\n",
       "      <td>2017-12-05</td>\n",
       "    </tr>\n",
       "    <tr>\n",
       "      <th>2017-12-06</th>\n",
       "      <td>27.422665</td>\n",
       "      <td>2017-12-06</td>\n",
       "    </tr>\n",
       "    <tr>\n",
       "      <th>2017-12-07</th>\n",
       "      <td>17.712357</td>\n",
       "      <td>2017-12-07</td>\n",
       "    </tr>\n",
       "    <tr>\n",
       "      <th>2017-12-08</th>\n",
       "      <td>20.182150</td>\n",
       "      <td>2017-12-08</td>\n",
       "    </tr>\n",
       "    <tr>\n",
       "      <th>2017-12-09</th>\n",
       "      <td>18.585049</td>\n",
       "      <td>2017-12-09</td>\n",
       "    </tr>\n",
       "    <tr>\n",
       "      <th>2017-12-10</th>\n",
       "      <td>14.372691</td>\n",
       "      <td>2017-12-10</td>\n",
       "    </tr>\n",
       "    <tr>\n",
       "      <th>2017-12-11</th>\n",
       "      <td>11.024047</td>\n",
       "      <td>2017-12-11</td>\n",
       "    </tr>\n",
       "    <tr>\n",
       "      <th>2017-12-12</th>\n",
       "      <td>9.399704</td>\n",
       "      <td>2017-12-12</td>\n",
       "    </tr>\n",
       "    <tr>\n",
       "      <th>2017-12-13</th>\n",
       "      <td>6.942111</td>\n",
       "      <td>2017-12-13</td>\n",
       "    </tr>\n",
       "    <tr>\n",
       "      <th>2017-12-14</th>\n",
       "      <td>6.849820</td>\n",
       "      <td>2017-12-14</td>\n",
       "    </tr>\n",
       "  </tbody>\n",
       "</table>\n",
       "</div>"
      ],
      "text/plain": [
       "             medPrice        date\n",
       "dateSold                         \n",
       "2017-11-24   8.166180  2017-11-24\n",
       "2017-11-25   4.265795  2017-11-25\n",
       "2017-11-26   2.289915  2017-11-26\n",
       "2017-11-27   2.378905  2017-11-27\n",
       "2017-11-28   2.407653  2017-11-28\n",
       "2017-11-29   4.841811  2017-11-29\n",
       "2017-11-30   4.492083  2017-11-30\n",
       "2017-12-01   2.560380  2017-12-01\n",
       "2017-12-02   2.327668  2017-12-02\n",
       "2017-12-03   8.635878  2017-12-03\n",
       "2017-12-04  38.017573  2017-12-04\n",
       "2017-12-05  35.252922  2017-12-05\n",
       "2017-12-06  27.422665  2017-12-06\n",
       "2017-12-07  17.712357  2017-12-07\n",
       "2017-12-08  20.182150  2017-12-08\n",
       "2017-12-09  18.585049  2017-12-09\n",
       "2017-12-10  14.372691  2017-12-10\n",
       "2017-12-11  11.024047  2017-12-11\n",
       "2017-12-12   9.399704  2017-12-12\n",
       "2017-12-13   6.942111  2017-12-13\n",
       "2017-12-14   6.849820  2017-12-14"
      ]
     },
     "execution_count": 800,
     "metadata": {},
     "output_type": "execute_result"
    }
   ],
   "source": [
    "df_medSold"
   ]
  },
  {
   "cell_type": "markdown",
   "metadata": {},
   "source": [
    "## Merge medianPrice, meanPrice with data"
   ]
  },
  {
   "cell_type": "code",
   "execution_count": 801,
   "metadata": {
    "collapsed": false
   },
   "outputs": [],
   "source": [
    "merged_left = pd.merge(left=df,right=df_medSold, how='left', left_on='date', right_on='date')\n",
    "merged = pd.merge(left=merged_left,right=df_meanSold, how='left', left_on='date', right_on='date')"
   ]
  },
  {
   "cell_type": "code",
   "execution_count": 802,
   "metadata": {
    "collapsed": false
   },
   "outputs": [],
   "source": [
    "#merged['medDif']=merged['soldPrice']-merged['medPrice']"
   ]
  },
  {
   "cell_type": "code",
   "execution_count": 803,
   "metadata": {
    "collapsed": false
   },
   "outputs": [
    {
     "data": {
      "text/plain": [
       "(124827, 266)"
      ]
     },
     "execution_count": 803,
     "metadata": {},
     "output_type": "execute_result"
    }
   ],
   "source": [
    "df=merged\n",
    "df.shape"
   ]
  },
  {
   "cell_type": "code",
   "execution_count": 804,
   "metadata": {
    "collapsed": true
   },
   "outputs": [],
   "source": [
    "df = df.drop('num',axis=1)\n",
    "df = df.drop('cat_id',axis=1)\n",
    "df = df.drop('timeStamp',axis=1)\n",
    "df = df.drop('dateSold',axis=1)"
   ]
  },
  {
   "cell_type": "code",
   "execution_count": 805,
   "metadata": {
    "collapsed": true
   },
   "outputs": [],
   "source": [
    "#df = df.drop('medPrice',axis=1)\n",
    "df = df.drop('meanPrice',axis=1)\n",
    "df = df.drop('date',axis=1)\n",
    "df = df.drop('dateBirth',axis=1)"
   ]
  },
  {
   "cell_type": "code",
   "execution_count": 806,
   "metadata": {
    "collapsed": true
   },
   "outputs": [],
   "source": [
    "#df = df.drop('medDif',axis=1)\n",
    "df = df.drop('birthTime',axis=1)"
   ]
  },
  {
   "cell_type": "code",
   "execution_count": 807,
   "metadata": {
    "collapsed": false
   },
   "outputs": [],
   "source": [
    "df['age']=np.log1p(df['age']+1)\n",
    "df['medPrice']=np.log1p(df['medPrice'])"
   ]
  },
  {
   "cell_type": "code",
   "execution_count": null,
   "metadata": {
    "collapsed": true
   },
   "outputs": [],
   "source": []
  },
  {
   "cell_type": "markdown",
   "metadata": {},
   "source": [
    "# OUTLIERS"
   ]
  },
  {
   "cell_type": "code",
   "execution_count": 808,
   "metadata": {
    "collapsed": false
   },
   "outputs": [
    {
     "name": "stdout",
     "output_type": "stream",
     "text": [
      "7.76278392909 55.7212612389\n",
      "Wall time: 43 ms\n"
     ]
    }
   ],
   "source": [
    "%%time\n",
    "out_train = df[['soldPrice']]\n",
    "outliers_lst = list()\n",
    "# Для каждого признака найдем слишком высокое или низкое значение\n",
    "for feature in out_train.keys():\n",
    "    \n",
    "    # TODO: Считаем Q1 (25 процентов) \n",
    "    Q1 = np.percentile(out_train[feature],15)\n",
    "    \n",
    "    # TODO: Считаем Q1 (75 процентов)\n",
    "    Q3 = np.percentile(out_train[feature],85)\n",
    "    \n",
    "    # TODO: Интерквартильный размах\n",
    "    step = 1.5*(Q3-Q1)\n",
    "    \n",
    "    # Отображаем выбросы\n",
    "    #print (\"Возможные выбросы у признака '{}':\".format(feature))\n",
    "    #display(out_train[~((out_train[feature] >= Q1 - step) & (out_train[feature] <= Q3 + step))])\n",
    "    \n",
    "    for i in out_train[~((out_train[feature] >= Q1 - step) & (out_train[feature] <= Q3 + step))].index:\n",
    "        outliers_lst.append(i)\n",
    "    print(Q1,Q3)\n",
    "\n"
   ]
  },
  {
   "cell_type": "code",
   "execution_count": 809,
   "metadata": {
    "collapsed": false
   },
   "outputs": [
    {
     "name": "stdout",
     "output_type": "stream",
     "text": [
      "7314\n",
      "Wall time: 991 ms\n"
     ]
    }
   ],
   "source": [
    "%%time\n",
    "# OPTIONAL: Выбираем выбросы от которых хотим избавиться\n",
    "outliers  = []\n",
    "\n",
    "\n",
    "outliers_dct = {x:outliers_lst.count(x) for x in outliers_lst}\n",
    "for i in outliers_dct.keys():\n",
    "    if outliers_dct[i]>0:\n",
    "        outliers.append(i)\n",
    "#print (outliers)\n",
    "print (len(outliers))"
   ]
  },
  {
   "cell_type": "code",
   "execution_count": 810,
   "metadata": {
    "collapsed": true
   },
   "outputs": [],
   "source": [
    "good_data = df.drop(df.index[outliers]).reset_index(drop = True)"
   ]
  },
  {
   "cell_type": "code",
   "execution_count": 811,
   "metadata": {
    "collapsed": false
   },
   "outputs": [
    {
     "data": {
      "text/plain": [
       "(117513, 258)"
      ]
     },
     "execution_count": 811,
     "metadata": {},
     "output_type": "execute_result"
    }
   ],
   "source": [
    "good_data.shape"
   ]
  },
  {
   "cell_type": "markdown",
   "metadata": {},
   "source": [
    "### rename"
   ]
  },
  {
   "cell_type": "code",
   "execution_count": 812,
   "metadata": {
    "collapsed": true
   },
   "outputs": [],
   "source": [
    "df= good_data"
   ]
  },
  {
   "cell_type": "markdown",
   "metadata": {},
   "source": [
    "# Model"
   ]
  },
  {
   "cell_type": "code",
   "execution_count": 813,
   "metadata": {
    "collapsed": false
   },
   "outputs": [],
   "source": [
    "y_train = np.log1p(df.soldPrice) #skrewed price distribution"
   ]
  },
  {
   "cell_type": "code",
   "execution_count": 814,
   "metadata": {
    "collapsed": false
   },
   "outputs": [],
   "source": [
    "X_train = df.drop('soldPrice', axis =1)"
   ]
  },
  {
   "cell_type": "code",
   "execution_count": 815,
   "metadata": {
    "collapsed": false
   },
   "outputs": [
    {
     "data": {
      "text/plain": [
       "Ridge(alpha=0.5, copy_X=True, fit_intercept=True, max_iter=None,\n",
       "   normalize=False, random_state=42, solver='sag', tol=0.001)"
      ]
     },
     "execution_count": 815,
     "metadata": {},
     "output_type": "execute_result"
    }
   ],
   "source": [
    "from sklearn.linear_model import Ridge\n",
    "\n",
    "train_X, valid_X, train_y, valid_y = train_test_split(X_train, y_train, test_size = 0.1, random_state = 42)\n",
    "model = Ridge(alpha=0.5, copy_X=True, fit_intercept=True, max_iter=None,\n",
    "   normalize=False, random_state=42, solver='sag', tol=0.001)\n",
    "model.fit(train_X,train_y)"
   ]
  },
  {
   "cell_type": "code",
   "execution_count": 816,
   "metadata": {
    "collapsed": true
   },
   "outputs": [],
   "source": [
    "model = GridSearchCV(Ridge(alpha=0.5, copy_X=True, fit_intercept=True, max_iter=None,\n",
    "   normalize=False, random_state=42, solver='sag', tol=0.001), cv=3,\n",
    "                   param_grid={\"alpha\": [0.3, 0.4, 0.5]})"
   ]
  },
  {
   "cell_type": "code",
   "execution_count": 817,
   "metadata": {
    "collapsed": false
   },
   "outputs": [
    {
     "data": {
      "text/plain": [
       "GridSearchCV(cv=3, error_score='raise',\n",
       "       estimator=Ridge(alpha=0.5, copy_X=True, fit_intercept=True, max_iter=None,\n",
       "   normalize=False, random_state=42, solver='sag', tol=0.001),\n",
       "       fit_params=None, iid=True, n_jobs=1,\n",
       "       param_grid={'alpha': [0.3, 0.4, 0.5]}, pre_dispatch='2*n_jobs',\n",
       "       refit=True, return_train_score=True, scoring=None, verbose=0)"
      ]
     },
     "execution_count": 817,
     "metadata": {},
     "output_type": "execute_result"
    }
   ],
   "source": [
    "model.fit(train_X,train_y)"
   ]
  },
  {
   "cell_type": "code",
   "execution_count": 818,
   "metadata": {
    "collapsed": true
   },
   "outputs": [],
   "source": [
    "pred = model.predict(valid_X)"
   ]
  },
  {
   "cell_type": "code",
   "execution_count": 819,
   "metadata": {
    "collapsed": false
   },
   "outputs": [],
   "source": [
    "valid = np.expm1(valid_y)\n",
    "pred= np.expm1(pred)"
   ]
  },
  {
   "cell_type": "code",
   "execution_count": 820,
   "metadata": {
    "collapsed": false
   },
   "outputs": [],
   "source": [
    "from sklearn.metrics import mean_squared_error\n",
    "from math import sqrt\n",
    "rms = sqrt(mean_squared_error(valid, pred))"
   ]
  },
  {
   "cell_type": "code",
   "execution_count": 821,
   "metadata": {
    "collapsed": false
   },
   "outputs": [
    {
     "data": {
      "text/plain": [
       "16.286373325989857"
      ]
     },
     "execution_count": 821,
     "metadata": {},
     "output_type": "execute_result"
    }
   ],
   "source": [
    "rms "
   ]
  },
  {
   "cell_type": "code",
   "execution_count": 607,
   "metadata": {
    "collapsed": false
   },
   "outputs": [
    {
     "name": "stdout",
     "output_type": "stream",
     "text": [
      "8.59208966073 4.95712883326\n",
      "4.99404 5.76556008408\n",
      "7.55551118056 12.8655395755\n",
      "16.2237728993 18.2852884665\n",
      "28.0321376769 14.2606432176\n",
      "6.97882764641 3.17084280079\n",
      "12.99003659 16.9109897673\n",
      "10.3468179056 16.089377064\n",
      "9.52256 16.6191713601\n",
      "82.3837109896 32.7515734195\n",
      "12.0608160937 11.4563690932\n",
      "26.7155613966 22.034060757\n",
      "8.22045864444 5.64042432125\n",
      "5.72212262787 7.51140676185\n",
      "44.9758711163 71.5855729709\n",
      "13.3321491098 18.1328219968\n",
      "36.3096944583 30.0236540784\n",
      "19.5849810221 26.3025420882\n",
      "12.6032438802 13.7838149747\n",
      "60.9067438472 55.8965187412\n",
      "95.6225702488 106.537199026\n",
      "15.5864794222 25.0732230085\n",
      "11.778747588 20.5208380932\n",
      "37.2539958064 33.6847059814\n",
      "17.3796791037 20.13200209\n",
      "9.61432 5.31222578827\n",
      "30.8755273531 21.7758186355\n",
      "27.9793571677 13.4202513109\n",
      "10.0128195174 6.78094679556\n",
      "10.8983858937 24.4633880395\n",
      "9.32980329051 22.7518855038\n",
      "2.34010808625 2.49535258511\n",
      "14.1900574653 19.3882408133\n",
      "15.1945772385 28.8386910607\n",
      "9.16367348148 5.81553446612\n",
      "5.28576690495 4.06468850181\n",
      "1818.82906813 1013.9703511\n",
      "12.4566506076 7.16567872952\n",
      "46.3446827909 47.2113524189\n",
      "1.56712286792 3.15309586364\n",
      "830.743674833 69.5334070301\n",
      "3.15656616306 5.19875148277\n",
      "10.7523973759 12.2239015992\n",
      "6.04463746282 3.70778370332\n",
      "101.853506058 65.0301545215\n",
      "8.96253022 17.2439862821\n",
      "31.6094537341 10.3804827624\n",
      "56.71601 39.0331588465\n",
      "67.583268 64.6532940329\n",
      "4.5314415737 1.45086083988\n",
      "8.45983894097 12.230757408\n",
      "31.8048418972 28.5910144136\n",
      "10.8830807343 18.8017341861\n",
      "59.4657046976 57.0315049297\n",
      "42.0148930743 42.1716928188\n",
      "15.1448620704 38.5534494776\n",
      "8.5114949 10.6711857126\n",
      "124.587937774 10.8622623318\n",
      "96.4049150156 46.4414812378\n",
      "91.5263932068 57.6517393985\n",
      "9.811746525 8.53556048123\n",
      "9.33939098115 7.71625435762\n",
      "13.4114107454 17.4060553284\n",
      "8.74034635527 18.585399336\n",
      "21.78093 16.0966772726\n",
      "63.097 46.9585503233\n",
      "24.9364474819 17.5526446212\n",
      "9.06875790625 16.775651372\n",
      "16.5984494565 21.0096655064\n",
      "22.2518950042 32.4334386528\n",
      "11.1823390906 5.56378756931\n",
      "72.3508282046 59.63695612\n",
      "53.5053883333 33.386747231\n",
      "92.5370588565 79.0841402124\n",
      "9.44206057139 11.6541252245\n",
      "8.47177161458 5.3089356701\n",
      "13.3778537278 17.0336396284\n",
      "1345.59340028 182.185338649\n",
      "23.29235 41.0165466186\n",
      "13.3934408625 14.1255586003\n",
      "4.55509352813 5.53229135549\n",
      "8.3961126441 26.4488503208\n",
      "42.0161528201 97.9953813887\n",
      "44.0897398536 26.3646654956\n",
      "40.2806518399 35.4475475416\n",
      "38.2901230424 23.9486720043\n",
      "60.94062 44.477256396\n",
      "64.6652597465 27.6814667256\n",
      "14.0244184605 24.5777661677\n",
      "9.26162142208 20.5858086137\n",
      "6.15635844282 7.71289973328\n",
      "20.7488349792 39.0114626729\n",
      "22.7923415576 18.0778168697\n",
      "111.940395132 50.032003149\n",
      "49.5437474854 38.4958166681\n",
      "6.56634996067 3.74456004376\n",
      "86.884051875 60.4865970479\n",
      "1330.2036 155.381749458\n",
      "5.59680038769 4.11271271308\n",
      "140.592581341 174.987845473\n",
      "17.5866413132 18.1313401217\n",
      "19.6097367921 19.8536434489\n",
      "82.4123403866 48.2689324742\n",
      "10.144124482 14.0516447556\n",
      "28.0107153819 39.7546785005\n",
      "21.73585 25.502654902\n",
      "14.77809 4.85805612724\n",
      "22.7753525734 26.7643336192\n",
      "46.1650175917 27.5979180387\n",
      "8.86127400174 8.94633977569\n",
      "14.57058 3.91123689715\n",
      "22.0388420143 16.7165742589\n",
      "11.885153019 24.7280607246\n",
      "6.57788368657 5.96876785144\n",
      "140.789100555 73.7153227021\n",
      "249.276566987 54.8703234948\n",
      "14.3115991 12.9347778856\n",
      "16.1839660859 30.645952124\n",
      "14.359906821 24.8616999175\n",
      "30.9367409064 16.0237681115\n",
      "13.21425 15.2240634508\n",
      "8.3415238059 5.37448041155\n",
      "17.5309373951 30.0679570668\n",
      "8.84273249325 4.44822845549\n",
      "6.534279 3.8042481096\n",
      "15.3170615556 23.2184380961\n",
      "10.0896138171 11.7728092606\n",
      "17.2217327555 38.0542992608\n",
      "85.5961619132 30.1698325854\n",
      "22.9412932749 22.8185185962\n",
      "16.6058889766 25.4545922405\n",
      "34.4119971537 31.5278358298\n",
      "13.4205015162 14.5502137313\n",
      "9.7983053 15.4081323619\n",
      "12.6328245231 11.197197913\n",
      "22.6584623958 16.6782205326\n",
      "18.8298375688 36.9434911194\n",
      "79.9785150551 62.0689721035\n",
      "25.6785520579 24.9952947388\n",
      "16.1829706617 24.7242828577\n",
      "12.2274931366 9.92937614564\n",
      "21.1371556352 31.7383053435\n",
      "5.24901389454 6.69727504429\n",
      "2.74568390719 4.29476700975\n",
      "47.9645 13.3345037628\n",
      "92.9094303958 66.8719243771\n",
      "13.4442681851 25.2537711153\n",
      "29.4248919257 22.8017621696\n",
      "121.988338472 61.1029346559\n",
      "32.4395064271 55.3782176836\n",
      "2.31021309583 14.1531630963\n",
      "67.1203230486 60.8923556143\n",
      "79.2615046463 30.7394868676\n",
      "13.0820186267 18.1359712269\n",
      "10.7390313563 15.1590802285\n",
      "12.1706556 16.793324635\n",
      "14.2626036511 23.6147643957\n",
      "405.177651343 18.6042074098\n",
      "8.54277056 12.755487708\n",
      "12.6563551472 15.8480305646\n",
      "8.07297 22.8949906997\n",
      "15.7112288672 9.73822938641\n",
      "10.2661005903 6.62465929182\n",
      "20.6510004556 33.1985079512\n",
      "67.9702956668 32.2398252966\n",
      "14.6069389647 19.3859292829\n",
      "22.4159022444 26.8536294534\n",
      "25.6878288698 28.059264617\n",
      "12.5534780177 15.598776253\n",
      "13.46905 13.3764780209\n",
      "31.875772875 26.6164074689\n",
      "23.3339029424 20.5294715053\n",
      "56.1060179162 29.0071571635\n",
      "33.4351322385 24.1965565691\n",
      "46.1697474803 29.8238495302\n",
      "13.024314 12.4482369746\n",
      "30.3913773615 23.97606938\n",
      "1.37721122077 2.16074090275\n",
      "6.40914180729 7.06106983095\n",
      "14.8089452875 20.5186893424\n",
      "15.8593736942 22.3981823348\n",
      "22.8521461032 43.7960706204\n",
      "1.84534204472 2.34781944567\n",
      "7.43721067031 10.0548147172\n",
      "133.562796806 39.1008776421\n",
      "28.1332849042 32.30381985\n",
      "10.5481553627 11.1553438266\n",
      "15.5334614286 8.4530578212\n",
      "33.3386332562 32.4139391144\n",
      "38.3152337111 40.4363386054\n",
      "7.18995236615 24.5245750926\n",
      "8.98273458333 13.211772564\n",
      "13.3424962958 22.2513894309\n",
      "15.939563 18.8303281441\n",
      "70.2061761285 46.1983363371\n",
      "4.59064309583 4.18062529712\n",
      "10.6008287066 10.7318595143\n",
      "17.8051861023 21.946110821\n",
      "11.4190808641 15.1714610916\n",
      "47.9133361551 82.8311186477\n",
      "23.5388477322 22.728443843\n",
      "11.7324590664 8.85285737807\n",
      "9.32852 9.32176692734\n",
      "8.66980446557 9.75688110615\n",
      "178.650291852 66.9961497489\n",
      "11.3406753731 19.2908805433\n",
      "134.0832 204.700504623\n",
      "28.8025151307 31.7511597742\n",
      "26.6109966354 34.0948824548\n",
      "6.5285648831 7.54895492013\n",
      "8.06465982332 30.5946094176\n",
      "48.825753149 51.800822717\n",
      "9.07269461875 6.64920387429\n",
      "21.5693186755 34.3443333293\n",
      "29.9776328 31.0402136816\n",
      "25.6763467187 33.230099018\n",
      "18.797990006 29.4544359159\n",
      "38.8481589611 34.6374046936\n",
      "14.0393921503 25.1177915565\n",
      "2.19467 4.35846860272\n",
      "29.8165963802 26.2172526885\n",
      "148.824746304 124.038315203\n",
      "39.2032387896 17.8010304585\n",
      "15.003835 13.6883066584\n",
      "9.57236155324 25.5837865558\n",
      "51.4399474655 44.4165673007\n",
      "4.51086193704 4.40696420056\n",
      "39.9167553704 52.3809386218\n",
      "23.2459845683 32.7269353505\n",
      "5.96857588125 4.66665859716\n",
      "104.167746354 14.7933347\n",
      "27.4222411771 27.9515719787\n",
      "387.530431535 134.376033456\n",
      "46.7129104096 36.703635152\n",
      "14.18346 14.4620677364\n",
      "7.02792 7.80884604504\n",
      "18.4645515836 17.2355944006\n",
      "18.6538798441 37.5256427115\n",
      "7.85833071111 12.7379058316\n",
      "38.4165620031 41.456123583\n",
      "59.4493237556 31.683545812\n",
      "592.751208406 46.8766022765\n",
      "225.723553445 68.4639521988\n",
      "36.4167771792 36.4878997068\n",
      "4.21378372294 6.6469497451\n",
      "291.541184103 163.079975188\n",
      "9.36205840509 15.8531465284\n",
      "1283.736025 575.498410364\n",
      "4.70654105885 9.70967998939\n",
      "84.1363565153 56.2983727484\n",
      "123.102503514 54.4291583559\n",
      "47.3368944208 18.2082087416\n",
      "9.68045799421 12.2846612967\n",
      "6.53389816826 7.27776004403\n",
      "14.6117508181 15.3937456761\n",
      "9.07425485139 10.7509348417\n",
      "4.27113889699 13.3013956631\n",
      "8.41228721222 4.42527676079\n",
      "5.89904937676 4.13482580772\n",
      "350.992789222 61.7720956776\n",
      "17.808069125 15.387404058\n",
      "61.3878621729 51.3826388341\n",
      "18.3809717 26.1966480389\n",
      "15.9920242912 27.7471595016\n",
      "15.6434965422 21.1192574811\n",
      "12.2756480347 16.5809971203\n",
      "136.508674306 163.101526282\n",
      "12.5273035775 10.7124466161\n",
      "25.4573318287 18.8252297463\n",
      "9.35254995139 14.4617466207\n",
      "19.2875928642 28.664981041\n",
      "46.8802114583 72.1677038298\n",
      "26.7617782205 36.567480834\n",
      "2.14388353194 4.52352310092\n",
      "5.87746407002 6.6475975698\n",
      "24.0279078444 58.7230122346\n",
      "18.175706984 37.4185407622\n",
      "44.8625770417 38.3640467048\n",
      "4.67146 1.69894528044\n",
      "39.4140882778 31.3694615851\n",
      "4.202064 6.40650891672\n",
      "11.71086955 9.55740012498\n",
      "12.7867816654 13.8035857463\n",
      "46.3447977438 22.3505784933\n",
      "22.8715981377 27.0634532778\n",
      "19.38123 17.1808279807\n",
      "13.2970817899 12.6286542191\n",
      "18.5346000875 19.6782988474\n",
      "6.21773027778 9.21239144378\n",
      "42.538969505 40.3957373476\n",
      "13.7317825391 30.2170751242\n",
      "43.4444550426 22.9362807312\n",
      "30.4421211611 25.858692963\n",
      "14.3251436625 12.4616330986\n",
      "8.73018055556 8.160750917\n",
      "9.16630468667 15.8541953577\n",
      "5.95310953516 8.32380707454\n",
      "207.189507302 5.81347835105\n",
      "10.4394277667 26.2251176341\n",
      "13.6546778995 11.6239659817\n",
      "36.5675378906 17.0756104701\n",
      "17.4218983854 23.411457942\n",
      "21.1777580441 27.5332462856\n",
      "46.7949392431 30.3846197155\n",
      "123.404402813 76.8322268896\n",
      "8.60376948148 11.4670352402\n",
      "10.8277857359 32.7186351369\n",
      "29.9992046549 31.0944298192\n",
      "36.3542707242 35.5381337991\n",
      "33.750075 36.4340344988\n",
      "17.9051569766 20.155847956\n",
      "5.06243979688 16.6358050358\n",
      "171.28683897 55.2382299087\n",
      "13.1755033015 8.80465931703\n",
      "63.1347300203 31.554916606\n",
      "9.01956489398 19.7279376587\n",
      "47.0842142644 16.1327921451\n",
      "57.9089826447 42.3403913533\n",
      "121.367739046 33.4602556075\n",
      "9.12692948495 8.10443402423\n",
      "8.423559375 9.65684125907\n",
      "5.50932930424 6.78683356115\n",
      "37.7327380176 41.7445655846\n",
      "57.6344673361 45.5359197204\n",
      "16.9429440252 11.6053321554\n",
      "20.5935976282 28.7086453516\n",
      "10.4577906672 6.82754908676\n",
      "63.7466094537 47.5827621294\n",
      "67.8308110556 44.4455692924\n",
      "34.3134877944 21.3888475913\n",
      "8.07667633464 14.2513609452\n",
      "288.727580917 306.757669949\n",
      "85.5524 36.3065627173\n",
      "22.7160940028 13.1159461186\n",
      "8.97098385417 24.0238404781\n",
      "38.0018073924 39.8409446115\n",
      "2.596269425 13.8118061553\n",
      "15.4822053133 28.4915327547\n",
      "73.046586325 68.3599799675\n",
      "12.2069143708 15.7548810182\n",
      "22.1931869833 34.2991440151\n",
      "9.05011028264 9.61213328688\n",
      "440.531533289 16.2126688173\n",
      "41.4677637662 48.0844338417\n",
      "49.5794312951 50.759221917\n",
      "13.6919637125 27.7606153045\n",
      "17.3226109509 16.8329523543\n",
      "12.7428 19.0824234531\n",
      "13.1479832517 15.3995468454\n",
      "12.8308482824 8.00585285165\n",
      "9.11707332407 13.7847399976\n",
      "43.2411392664 33.1053175458\n",
      "14.0609104338 22.3713322018\n",
      "5.81532404583 8.98062085314\n",
      "5.81682572778 6.2858334074\n",
      "7.37816 5.7635003256\n",
      "10.2256934596 5.89724098947\n",
      "10.7528226169 13.3976657554\n",
      "161.439394875 49.7793342447\n",
      "24.0351753617 18.7811331665\n",
      "13.2182589875 37.3717072455\n",
      "58.5698976687 15.0794029624\n",
      "15.4626568611 13.7981636973\n",
      "7.55223956019 29.8425136272\n",
      "9.11381711771 16.9385962937\n",
      "519.532555056 146.142914481\n",
      "184.721674662 140.446867963\n",
      "45.9436526667 32.5172643744\n",
      "138.637883166 200.173875837\n",
      "37.6852456458 43.620419927\n",
      "8.628066 11.5749970898\n",
      "1.43649555093 2.28347078327\n",
      "31.3612380222 35.0488065227\n",
      "12.0320434271 15.2718777548\n",
      "10.2944550768 15.3648732372\n",
      "95.3290629167 66.4614154568\n",
      "128.393018993 125.609179753\n",
      "9.40760770778 10.1669694298\n",
      "10.6895029722 14.4263116717\n",
      "21.7705 26.8723918846\n",
      "6.12274592593 5.4522456766\n",
      "7.36632 9.40812613704\n",
      "14.562016154 18.0460543094\n",
      "923.250491944 153.682904002\n",
      "38.3578352535 20.8809875651\n",
      "26.9115181366 21.1728164039\n",
      "8.55760281797 8.26563820339\n",
      "93.2501337708 65.115659769\n",
      "17.7460242483 16.6049362242\n",
      "39.8045665932 39.7353601988\n",
      "11.1190794312 11.2775537929\n",
      "25.0824957451 42.2282375171\n",
      "156.328472396 83.9960865497\n",
      "32.7662637697 32.5973472713\n",
      "2.317245 6.90368257748\n",
      "24.7518149248 29.0697928371\n",
      "6.35043868125 3.21108435277\n",
      "13.8177877639 13.1875797085\n",
      "11.7430910008 20.1053738512\n",
      "242.281455181 456.543707361\n",
      "8.10355885278 7.85941960337\n",
      "8.16783104844 5.47322047909\n",
      "1.818544 2.50259524854\n",
      "43.5920553869 49.0842479063\n",
      "31.7224811496 38.3996179084\n",
      "21.5564662503 68.8986898804\n",
      "13.9549465885 23.3898546856\n",
      "16.1666126042 19.8845589989\n",
      "16.7912885146 17.1568808311\n",
      "57.6795527407 48.4740632454\n",
      "78.2856777667 32.3809670896\n",
      "19.4481583763 28.3870371098\n",
      "32.4414707859 45.6882888526\n",
      "16.2133149519 17.3480171996\n",
      "7.00310686921 6.92930547363\n",
      "5.38806155093 6.37703576926\n",
      "6.35238258069 8.48891065837\n",
      "74.7595407417 119.957516946\n",
      "16.7814970292 32.3677693216\n",
      "18.577479542 38.452097378\n",
      "76.3203728962 62.2913952596\n",
      "87.7043560861 11.6930761499\n",
      "22.4450498778 28.6500022586\n",
      "12.7634446225 17.4888419572\n",
      "23.35231024 19.1829635052\n",
      "16.8245686378 20.0026216783\n",
      "11.9459763907 5.27461044687\n",
      "10.797472186 10.6472660065\n",
      "9.57684 15.3647627265\n",
      "32.9844513056 43.3943246284\n",
      "417.3795 235.502009673\n",
      "15.6634873108 19.4135141428\n",
      "6.35059727491 4.81307934455\n",
      "5.63017814519 8.76784067855\n",
      "44.181939739 24.6761101399\n",
      "12.3582696973 8.61748965363\n",
      "51.5515696944 71.2898376665\n",
      "26.5224668553 7.80011044394\n",
      "35.2441764523 41.9007742721\n",
      "5.251869355 3.73909577941\n",
      "0.920576 2.38616867641\n",
      "4.80849 70.8056392754\n",
      "14.20572 18.8960020833\n",
      "63.0559805403 17.8624958107\n",
      "13.1969287629 5.43553778226\n",
      "26.176588875 34.5814550776\n",
      "15.1849553778 19.0309403785\n",
      "5.58273005056 7.08439760722\n",
      "65.4827499444 149.542334686\n",
      "51.0857867648 21.3589431526\n",
      "17.3368536458 41.5074214217\n",
      "146.491458888 90.0355581382\n",
      "31.9253310324 30.8999278952\n",
      "16.037638645 24.8327287414\n",
      "1.071063915 1.92652409852\n",
      "1.7550144262 1.66770350838\n",
      "7.90475732813 4.18909489878\n",
      "32.2537473 40.4640054788\n",
      "25.5780048833 42.0541811173\n",
      "13.7360997214 10.833237551\n",
      "9.51301468113 7.31347627538\n",
      "28.7395089985 31.5976192129\n",
      "38.0624205533 29.5025689549\n",
      "11.1049235486 16.0134048895\n",
      "1.686220755 1.39288648844\n",
      "12.7598641098 14.5318383904\n",
      "18.1966226505 25.0759251647\n",
      "9.137765 9.56433352748\n",
      "18.8436476019 15.7726477058\n",
      "16.2223188147 20.468021431\n",
      "22.0526706889 40.5307925488\n",
      "105.738797569 19.7111519938\n",
      "45.8697206288 30.8055696507\n",
      "2.33878970486 3.91088364888\n",
      "46.4749 46.4967671892\n",
      "38.6177691146 30.7046372029\n",
      "10.4233057634 7.01109590593\n",
      "14.90421 16.7030694226\n",
      "55.7109045247 50.3821787826\n",
      "23.7869 18.4331231051\n",
      "5.83739471678 5.1260028638\n",
      "42.3375249771 27.0629206923\n",
      "21.5881404771 50.5723657369\n",
      "13.9393585472 13.1122497834\n",
      "4.23888124274 5.38426582596\n",
      "31.5282659722 30.4728735024\n",
      "17.219525 16.5341584158\n",
      "18.2377664583 37.8913152579\n",
      "139.162929514 139.353487799\n",
      "19.5237607306 31.7929418539\n",
      "10.8671582986 13.6525349977\n",
      "78.8432304708 43.7367667514\n",
      "4.01548520139 19.5173770281\n",
      "17.47784 25.3099206066\n",
      "46.6553834906 22.4105456528\n",
      "90.1075417384 53.0924235812\n",
      "5.71562895833 6.0567689235\n",
      "20.8793204994 25.9422599817\n",
      "4.49037370208 1.24163514854\n",
      "39.6827139375 22.7475621208\n",
      "15.8543899764 11.9159358987\n",
      "5.90377018 7.4851041739\n",
      "9.35128696319 28.5150303559\n",
      "13.0627699157 20.0588363323\n",
      "12.2757443915 16.9952878114\n",
      "24.367242037 29.2136888124\n",
      "31.7032066707 22.8079635424\n",
      "8.92675747407 15.702477098\n",
      "15.59278 17.8452258346\n",
      "10.5214107031 19.2023471403\n",
      "62.4003135926 36.8341197973\n",
      "5.65671505597 13.6129794713\n",
      "86.5592 47.8376149913\n",
      "11.118370884 7.29077645295\n",
      "6.17785574722 3.58367327838\n",
      "35.4159884659 20.0833385468\n",
      "9.99488756356 9.4729462894\n",
      "56.9742932759 48.9721037092\n",
      "38.0186556736 40.3324492206\n",
      "4.15984577556 4.45907248904\n",
      "145.99872 119.966059281\n",
      "9.71535014988 6.41976998381\n",
      "12.84654 13.2572717511\n",
      "32.8874115002 34.5320330335\n",
      "8.49566539597 5.0580616836\n",
      "6.07595823611 5.68502830246\n",
      "55.6224926285 44.5471306926\n",
      "13.8803643533 29.7590258849\n",
      "3.4664190825 3.22283002612\n",
      "27.599079 35.6087781888\n",
      "14.6437907722 16.0925669659\n",
      "8.59034999132 13.0375746198\n",
      "27.7656297208 33.896660124\n",
      "17.046295 4.08380751656\n",
      "86.1671208686 42.7569805071\n",
      "7.18812429282 8.78120021564\n",
      "14.8965123657 31.6843778094\n",
      "30.1163577523 32.7208401275\n",
      "275.943485741 320.801064068\n",
      "9.48953115046 14.8987708226\n",
      "8.46020494444 17.1278471096\n",
      "13.6593729417 19.5216091132\n",
      "4.23811529333 6.57274794878\n",
      "8.91087803009 12.8894563094\n",
      "9.08854959334 9.38533258299\n",
      "14.38935 10.6254811436\n",
      "8.77927679737 7.12940782628\n",
      "40.1285747489 30.7121722187\n",
      "10.8544074823 12.6991378459\n",
      "12.787862514 11.8983643182\n",
      "19.6211431158 35.2614682986\n",
      "5.06829989167 2.35057821567\n",
      "25.3570547763 39.2048650929\n",
      "18.888189878 32.8874587847\n",
      "28.5363005044 33.4422181118\n",
      "13.0593302201 31.6351727827\n",
      "80.3843713399 45.9491760047\n",
      "13.2945575556 11.9461471894\n",
      "3.508884875 5.22971715728\n",
      "10.4398461167 11.9140949365\n",
      "2.319885 1.12663416407\n",
      "181.465244972 85.516908771\n",
      "2.31899797 30.1761436363\n",
      "2.31332440241 5.45139693029\n",
      "25.2476143854 38.5960048996\n",
      "35.9016 19.7295122159\n",
      "1.42512129375 4.71088100663\n",
      "24.6992085328 23.8766499944\n",
      "352.116078071 86.6975397841\n",
      "23.1228109464 26.2305869088\n",
      "18.048520374 29.5385572481\n",
      "15.8824204517 17.5694707689\n",
      "14.0264951483 18.2293657981\n",
      "128.768897292 62.1886139896\n",
      "9.40252 13.03392719\n",
      "14.4254396408 20.132842617\n",
      "25.0940439969 22.5553860978\n",
      "16.1627513252 30.8684490184\n",
      "18.02712 20.0502061363\n",
      "39.4385133819 19.5401824076\n",
      "10.1544207125 12.2760443545\n",
      "37.1374311539 32.4146508216\n",
      "26.9883239497 65.3700875539\n",
      "29.6738373934 37.6575251787\n",
      "3.83342656729 7.5686428938\n",
      "60.7396302343 10.6578885963\n",
      "18.29292 18.3737024773\n",
      "71.0210831333 86.8825497263\n",
      "18.998540608 51.753757693\n",
      "333.964471352 306.983548192\n",
      "8.75702432222 5.8406499741\n",
      "86.1388 21.5399626241\n",
      "27.9339907627 41.6903885998\n",
      "50.7635267843 32.920306171\n",
      "204.614498526 111.634417704\n",
      "23.5184084806 13.2916363683\n",
      "40.5690065055 21.4017673467\n",
      "10.16108 10.7159857075\n",
      "9.18696977639 10.4360556072\n",
      "90.0002 54.5537892152\n",
      "57.5010774422 42.7739368807\n",
      "43.2709186406 9.07524804422\n",
      "39.8333044407 25.900500049\n",
      "27.2508231601 15.0776453899\n",
      "11.5652785694 24.9688664787\n",
      "21.06786 15.2657048939\n",
      "36.1037479111 30.0326446842\n",
      "2.10819096917 2.40835313659\n",
      "46.65935505 59.1025189273\n",
      "355.00281625 154.199100846\n",
      "14.0722316319 55.4535152914\n",
      "81.60768135 42.4985838138\n",
      "5.61744046097 4.26449514019\n",
      "35.758164425 22.9945609602\n",
      "8.36658353333 5.84224742116\n",
      "9.95733508333 22.8438728194\n",
      "5.43088 5.13377158989\n",
      "67.0923393582 32.1635427376\n",
      "17.6964455753 20.6908611371\n",
      "41.9227880833 31.2948826979\n",
      "33.1914253384 22.4557114647\n",
      "8.43644533333 7.7345971686\n",
      "10.0050082903 10.6986443124\n",
      "1.29496649028 2.83355751934\n",
      "17.207821138 28.8843206038\n",
      "46.4470362688 48.4445994935\n",
      "41.1272855722 18.2971785462\n",
      "13.6525464971 13.934926465\n",
      "27.2785392014 33.3981541378\n",
      "303.205595944 80.113378517\n",
      "32.7986241019 31.0720315406\n",
      "194.536038147 105.431647805\n",
      "76.3010454537 68.068527454\n",
      "13.92561 10.1574143151\n",
      "18.8048157014 21.7128695187\n",
      "9.33341156554 12.2189577221\n",
      "6.83302217344 11.564546328\n",
      "8.98260348785 9.55958990056\n",
      "26.9955441875 12.33015787\n",
      "438.313383666 90.8978547269\n",
      "7.60988047667 13.1398204315\n",
      "5.52271287037 8.60858845084\n",
      "21.6957081979 29.5356912861\n",
      "5.70056275556 2.39584867617\n",
      "6.01339589392 6.65885181026\n",
      "13.237769744 19.9320481131\n",
      "8.92930327481 14.8977103387\n",
      "23.1352853 30.1108224082\n",
      "13.5036558861 22.5474163437\n",
      "6.56150959949 10.0400096483\n",
      "13.921216 22.3932871572\n",
      "11.3652687536 10.9998013234\n",
      "96.0602134667 56.9746450042\n",
      "8.60089115845 13.4888105412\n",
      "9.62902037222 18.2308431422\n",
      "18.53716 8.27708842578\n",
      "37.727212559 50.2233181787\n",
      "111.698741392 29.4395018716\n",
      "34.3758525056 45.4215200735\n",
      "9.07206 17.8925586925\n",
      "5.20963113 39.6759553119\n",
      "12.9972038935 17.1702766881\n",
      "9.2354545 28.2235693978\n",
      "13.0203731796 14.7886157152\n",
      "82.1744420972 42.443123133\n",
      "18.1191969954 12.5652063131\n",
      "5.65729236535 6.07926593275\n",
      "9.998692 5.99189437815\n",
      "20.0430653734 21.3459743213\n",
      "13.9265489479 18.8971528697\n",
      "84.8674498818 40.0031126032\n",
      "10.6635076246 14.6554861237\n",
      "613.643144307 133.271097025\n",
      "15.289190184 13.0085871796\n",
      "15.7799575939 22.0520193364\n",
      "77.8771148495 72.4542041032\n",
      "363.3344 329.015459695\n",
      "23.4579439711 3.75334436687\n",
      "23.3497231333 42.0674482681\n",
      "45.1985719422 28.7916531318\n",
      "8.75230781 43.3005866419\n",
      "12.7404682493 11.7956852441\n",
      "25.6885648437 37.8667363993\n",
      "28.413763 29.5553872454\n",
      "12.362342724 12.8166995033\n",
      "5.41851006019 4.2817153347\n",
      "170.158495416 124.418697799\n",
      "12.1551690052 16.0997716324\n",
      "143.228762644 84.2808155493\n",
      "5.20646224222 8.6165692312\n",
      "2.32865042208 2.59463797192\n",
      "10.5167330476 19.9450964505\n",
      "34.0644109685 32.1248976346\n",
      "26.129763099 34.1172533523\n",
      "122.595371644 29.5951494136\n",
      "9.35194718464 9.67464451426\n",
      "35.8667760458 56.0970190875\n",
      "13.1692348323 16.0916962922\n",
      "7.43168234375 29.9917706895\n",
      "23.6347 33.9755503901\n",
      "10.1639043513 13.9408708364\n",
      "30.0735177272 38.7629027163\n",
      "70.59076552 61.2800019889\n",
      "24.1330425364 24.6939345884\n",
      "34.4912369525 44.5642218347\n",
      "7.2437428509 14.7525027579\n",
      "9.18954546296 10.5605412251\n",
      "20.1169837917 14.211097671\n",
      "16.2125428977 17.8654685892\n",
      "8.62171401447 15.3942155624\n",
      "9.15470662442 12.1906248238\n",
      "8.77551146898 11.7460216268\n",
      "5.20162651215 11.8047507378\n",
      "4.01384592163 9.16093407947\n",
      "56.9467949062 32.7939332642\n",
      "5.18991125278 2.93972012051\n",
      "6.43229625593 10.5706850093\n",
      "31.5616967735 16.9758508401\n",
      "27.52542915 38.7826735822\n",
      "84.9893549 37.1886996316\n",
      "6.82728804833 19.6064168698\n",
      "8.59124940299 13.0568575012\n",
      "3.73294700167 10.5858180908\n",
      "12.6459935856 13.7415967091\n",
      "177.523502965 156.086332481\n",
      "30.9025686722 25.4004149238\n",
      "17.915268073 21.8097055504\n",
      "65.9662361667 14.3122631112\n",
      "45.9859497943 37.7911151146\n",
      "8.56629983073 6.52204281219\n",
      "9.45537156944 8.50834130453\n",
      "11.4088211125 9.31969913376\n",
      "6.26606391855 6.83511988978\n",
      "11.9463989958 23.123360676\n",
      "94.1707324611 45.7864032288\n",
      "35.7362616333 37.7037360133\n",
      "5.76882 7.82512466287\n",
      "2.6633002026 10.8141360287\n",
      "10.1803065729 10.3386999005\n",
      "44.8970374604 25.0345885087\n",
      "9.72699984838 7.54197070678\n",
      "16.536213699 14.3173001892\n",
      "64.3788546146 6.73694347058\n",
      "56.4556189444 37.8157511589\n",
      "12.6205012396 21.0918885972\n",
      "7.3861 14.9100228221\n",
      "12.8106592252 15.9094111033\n",
      "56.250125 25.922756244\n",
      "35.81424 31.2657821573\n",
      "4.91591828063 5.20245206005\n",
      "7.61420109635 12.0220856143\n",
      "43.915266039 30.1840714732\n",
      "12.4097433989 22.03716114\n",
      "20.9566635341 26.7321508171\n",
      "13.5689581417 15.8836299927\n",
      "20.7516610743 26.7077169476\n",
      "9.31622824312 5.51700357169\n",
      "32.74467 28.0523203442\n",
      "22.811803 50.7812271973\n",
      "17.6956643236 17.5359264232\n",
      "8.52016109451 5.43591176536\n",
      "9.18209385995 15.1995260084\n",
      "36.304926525 44.188519367\n",
      "51.3528323595 49.7675338626\n",
      "28.6858096948 17.5415401017\n",
      "13.771498125 25.3027758186\n",
      "7.44496878542 7.83940189736\n",
      "9.10934215625 7.6104274756\n",
      "12.0415960449 20.4912961141\n",
      "1.32394011115 2.06497494351\n",
      "33.2608938171 36.3182052781\n",
      "6.20693051375 8.19544605747\n",
      "53.849163632 63.6315181232\n",
      "16.5411655383 30.6121859111\n",
      "18.8240028189 25.5396925374\n",
      "27.7713959566 13.7236452004\n",
      "8.89233196481 22.5797904111\n",
      "22.06035 35.5338594688\n",
      "13.996009 14.0849180789\n",
      "12.6127236722 13.9121298545\n",
      "54.8744511667 57.4972811484\n",
      "18.0084591141 23.4804931202\n",
      "9.03557881406 9.63070303809\n",
      "4.21648865 7.51578766546\n",
      "29.6252934631 29.9264740872\n",
      "13.65378 27.2559918628\n",
      "83.4469690019 57.6053534886\n",
      "34.8793852354 35.1929356277\n",
      "22.03305 20.1184780407\n",
      "60.3976345081 8.28179001008\n",
      "5.931187925 12.4146884991\n",
      "129.503965486 130.780916618\n",
      "48.4544471147 49.9726445322\n",
      "15.9518965959 15.1123023019\n",
      "142.026879611 195.252387101\n",
      "26.1541673509 41.7952183874\n",
      "56.7478981125 41.1976315067\n",
      "5.07172922604 4.20376310681\n",
      "11.5238816808 14.1442449015\n",
      "43.6898933722 31.4809690933\n",
      "21.8589 22.0156746848\n",
      "14.44344 23.9091161245\n",
      "25.3857429442 33.2998748518\n",
      "40.8486788472 38.2003807006\n",
      "8.97814215547 6.58214594411\n",
      "40.8663052458 46.3887893508\n",
      "24.6579353009 60.2553658662\n",
      "13.43619 22.8004064629\n",
      "156.747398229 79.706897923\n",
      "44.5700850001 30.975728908\n",
      "22.7462323191 31.3468359306\n",
      "4.30583932969 2.76896956176\n",
      "1.897288 1.94478401689\n",
      "15.1353306458 12.6883915471\n",
      "9.24825622222 8.86002847373\n",
      "12.9176641611 33.8036435374\n",
      "2.34889998323 2.77278310115\n",
      "8.37663239259 4.45103904416\n",
      "6.24587978438 3.12928603089\n",
      "5.22416529618 7.06308852063\n",
      "6.36165307315 5.89668967467\n",
      "16.4601695611 17.7391205821\n",
      "18.0591358444 16.0612055683\n",
      "1.898024 2.15116659434\n",
      "45.425231 58.0928457202\n",
      "83.6353787521 25.9136689811\n",
      "13.3452364734 13.4796739315\n",
      "27.9324197619 30.7062972505\n",
      "173.266929423 161.407162886\n",
      "13.2992089917 12.1827478772\n",
      "299.282369136 206.295372714\n",
      "26.961316037 22.9570477053\n",
      "13.8932504456 19.2408160571\n",
      "6.77514979306 5.45491970958\n",
      "281.2392 60.3158288247\n",
      "9.381288 23.6278768563\n",
      "10.2340277555 38.529360742\n",
      "47.5417619277 45.2198876243\n",
      "6.06298877708 9.45584669064\n",
      "105.769308215 36.3860629129\n",
      "9.7752714517 7.80433359287\n",
      "2322.89342093 585.50155494\n",
      "6.717007 7.37203972193\n",
      "27.8967621411 39.1974106386\n",
      "14.0775120955 32.5885387322\n",
      "60.0632260727 73.4947903434\n",
      "10.6440778125 8.84098237809\n",
      "19.5529519097 37.6239194643\n",
      "8.90533738417 10.6759088282\n",
      "8.799033 7.04633328716\n",
      "27.4359621625 43.1373121518\n",
      "53.2747579222 36.0258118587\n",
      "9.27352619481 12.5627820351\n",
      "16.3112132315 18.6795707397\n",
      "14.2802941299 15.270894921\n",
      "8.49077352611 5.56225852525\n",
      "8.146774 10.657762258\n",
      "26.1946787089 23.0782628075\n",
      "13.2226523458 34.9587912355\n",
      "8.98813388037 6.9931002885\n",
      "5.55908694433 3.85814135036\n",
      "8.60778553704 8.18609897155\n",
      "38.1668713815 28.9809618258\n",
      "21.946151625 34.2752612814\n",
      "82.045018716 68.9399001276\n",
      "16.3123049195 19.6090966771\n",
      "14.3869535931 13.1922835612\n",
      "5.54401603059 7.64881082429\n",
      "1.07901904509 2.11465675526\n",
      "13.4211139271 18.3365266825\n",
      "48.1491094292 66.6868860683\n",
      "4.71089703053 5.33735815923\n",
      "119.59875 22.2853869695\n",
      "55.9893935259 87.4748834211\n",
      "12.8586653708 19.1711086469\n",
      "168.641837552 20.5672751488\n",
      "10.944482516 16.8900302224\n",
      "5.59851328125 3.96485394058\n",
      "74.8480091667 29.9223526571\n",
      "5.33339570083 7.21099667465\n",
      "17.3139097824 28.5632071722\n",
      "147.206133667 79.8485674973\n",
      "17.57080465 10.5745374609\n",
      "13.24871708 16.2398216254\n",
      "17.8772069708 18.1007912312\n",
      "47.1772947708 45.8900771328\n",
      "36.71472 16.2262754022\n",
      "22.6021568875 26.1912783915\n",
      "9.36428 11.5382340586\n",
      "9.97930026042 12.077420342\n",
      "9.39969639468 10.4766116377\n",
      "8.5719603213 8.44775120634\n",
      "3.33616 5.40689978265\n",
      "18.7184693825 15.2730712315\n",
      "19.9018984938 8.53150468199\n",
      "5.10846154074 3.29171063118\n",
      "8.89558839556 9.9640690285\n",
      "45.4124250069 27.5501996548\n",
      "8.8478 7.78856015642\n",
      "117.978137019 40.2267208408\n",
      "36.7794434653 55.7318555747\n",
      "46.2943126505 25.1780216423\n",
      "19.1044439668 2.56254087802\n",
      "41.4190177449 32.6854465172\n",
      "18.8176881946 26.1910052886\n",
      "22.269814 21.8095185085\n",
      "9.92822562898 10.8225144628\n",
      "10.9815647079 20.9920477829\n",
      "41.0300227347 34.9168103432\n",
      "13.578727334 9.28100475571\n",
      "13.5525802271 11.0783543527\n",
      "4245.98706642 259.41977023\n",
      "21.82098 14.0635005421\n",
      "47.9645 7.16441579883\n",
      "40.9030054088 23.321242803\n",
      "3.84721005498 2.87877314795\n",
      "13.0342282074 11.5384369441\n",
      "10.6597931495 19.8287975445\n",
      "78.4125009663 33.9795726647\n",
      "24.4619136401 14.8893536654\n",
      "21.8151717798 26.5756273158\n",
      "1.2939645434 2.04129741029\n",
      "9.36083083062 8.76601034183\n",
      "22.2254532811 26.8619595728\n",
      "71.2187220133 21.2534002273\n",
      "5.0001329963 3.03724727503\n",
      "38.2048495169 45.6746534033\n",
      "15.6335990234 17.7599166959\n",
      "44.5392239758 50.8180247647\n",
      "45.1068303407 18.9145756082\n",
      "27.6915552201 32.224573229\n",
      "8.96510454514 19.2255469428\n",
      "8456.37473576 682.939014884\n",
      "44.7575937424 32.4350129377\n",
      "14.3138087556 25.9182922816\n",
      "8.894774 12.5103931211\n",
      "6.58014308329 13.7520889675\n",
      "13.3657598811 18.7542062069\n",
      "18.7403394667 29.7099444627\n",
      "18.3870700769 13.5951228353\n",
      "7.34740567422 22.4910802373\n",
      "43.7221 27.6858471417\n",
      "6.07156689407 6.3877974279\n",
      "6.48657269531 3.61429981166\n",
      "11.79802 7.13577112506\n",
      "464.589425806 93.3386121001\n",
      "5.56429184323 5.30887905509\n",
      "21.3923769007 20.4966428678\n",
      "5.12677650926 3.8257764152\n",
      "31.2162011667 35.271692486\n",
      "4.38820578938 2.77978775803\n",
      "27.358426 48.9534888355\n",
      "72.5684300833 70.3583079744\n",
      "158.060042163 309.041494708\n",
      "20.4312498019 16.4047207889\n",
      "13.20091181 9.41691483486\n",
      "43.2507 22.9799911708\n",
      "36.3992865833 26.6370662284\n",
      "7.63029546442 6.13824105396\n",
      "6.07698 4.67128018496\n",
      "18.8078872917 29.588711204\n",
      "11.0609654019 18.2215176817\n",
      "6.08752584444 11.7487854583\n",
      "19.7578132625 20.0665037691\n",
      "23.1797041639 32.9935185336\n",
      "4.49018935625 1.63299678286\n",
      "36.1661737871 19.628112157\n",
      "2.68481562222 5.70418416724\n",
      "15.4879611007 14.8075932616\n",
      "18.0962819074 36.9075649086\n",
      "13.97865463 17.1418624317\n",
      "15.365328 8.37587845344\n",
      "36.0966461889 30.3766255772\n",
      "5.99569285333 5.27253893276\n",
      "23.7368742187 22.1212769241\n",
      "17.112355434 26.0516438759\n",
      "6.15728804311 6.77990708922\n",
      "74.89031 67.3655225359\n",
      "4.67466010417 5.17690960186\n",
      "46.4654562153 35.94123557\n",
      "8.77656909606 7.24364712093\n",
      "31.7335381042 26.5615096282\n",
      "45.2335220926 37.3971843527\n",
      "5.86967487558 32.2141619664\n",
      "9.24118069566 12.3483097159\n",
      "10.7453885427 18.131045163\n",
      "7.36131231111 19.5107095434\n",
      "17.6687645833 20.3209982683\n",
      "197.130067277 120.210782214\n",
      "10.201248 13.9614186517\n",
      "11.2391574832 12.0880440185\n",
      "7.75301388264 8.85618670154\n",
      "12.3554924737 12.5727819185\n",
      "5.09340335764 7.12836372737\n",
      "17.10928 20.8713526143\n",
      "9.71807184722 18.1861090292\n",
      "14.2844974339 17.944860702\n",
      "13.9590278322 17.0728888061\n",
      "19.7943132444 53.1697304493\n",
      "23.0643814389 22.3423232973\n",
      "5.76816447266 18.8772036948\n",
      "13.9284429444 29.7732969617\n",
      "20.4815853338 29.9555208731\n",
      "10.5525325694 17.8474097684\n",
      "5.68474759271 8.46395187254\n",
      "461.772788528 107.480430631\n",
      "28.0967356358 24.995036179\n",
      "12.4761099097 20.4606122827\n",
      "7.10854449958 2.93638817524\n",
      "33.0724693275 29.3262104453\n",
      "59.7602064847 67.1337889165\n",
      "13.0719007302 11.1410609411\n",
      "89.1259814469 73.7844713699\n",
      "6.717007 4.42268809936\n",
      "6.13369359003 5.18497279804\n",
      "38.8355935524 32.749576362\n",
      "12.6653430958 21.5792981904\n",
      "17.1191916125 25.5827237505\n",
      "12.5880673845 13.2867430865\n",
      "1.15134760406 1.37105281014\n",
      "8.140314 9.89105193455\n",
      "5.29968540208 2.61013629767\n",
      "8.22869113 11.7581213209\n",
      "7.062135 7.9994925621\n",
      "28.7502185472 15.0671573679\n",
      "5.3507088075 11.0065882185\n",
      "9.08240824606 5.68127601386\n",
      "4.12869989375 3.01969768225\n",
      "21.1423115685 20.3063489149\n",
      "13.8641337113 31.3542835848\n",
      "22.89575 9.14975876642\n",
      "7.36835 3.99396273794\n",
      "6.05583443833 8.07112262597\n",
      "10.3330194306 9.66392350844\n",
      "21.4766814574 25.7638352435\n",
      "57.863530713 62.2081809274\n",
      "18.1531529533 12.6233716475\n",
      "46.1441770461 67.9975330346\n",
      "10.3619228925 17.2055692754\n",
      "319.217127535 75.5407293977\n",
      "12.5407671508 17.5581143073\n",
      "190.278249618 43.0360605752\n",
      "8.42507130667 7.29968468259\n",
      "242.695467444 156.879113218\n",
      "24.6965908109 26.2093535787\n",
      "8.52919817458 11.6107752302\n",
      "15.8832485041 12.915033888\n",
      "7.95704576204 4.97071550157\n",
      "12.6962003544 13.7078412973\n",
      "13.7464214338 20.0963855941\n",
      "11.9660620625 11.8817427514\n",
      "33.65187 22.910402537\n",
      "4.33581658257 13.9162908712\n",
      "18.5997108715 29.3189242342\n",
      "28.685932178 16.4948780545\n",
      "31.88543611 28.1985689999\n",
      "594.277977487 81.1817785907\n",
      "6.39786643222 6.27754329451\n",
      "15.013157 20.3301450777\n",
      "64.0925029062 38.2218138429\n",
      "20.9587842583 33.6038036664\n",
      "5.89983820648 8.62062295858\n",
      "8.63685241111 9.97741064383\n",
      "4.69770956927 9.16965164575\n",
      "12.7590333453 12.0529840992\n",
      "61.2353516319 66.107254606\n",
      "28.20762 42.4178890798\n",
      "13.2815871481 10.3735315433\n",
      "33.9408355579 45.8290571696\n",
      "22.1583276187 29.0739772605\n",
      "42.58944 16.9535377709\n",
      "24.5068063509 31.8960952865\n",
      "11.7727614889 14.2615018109\n",
      "23.2406700984 52.1505470642\n",
      "31.196319325 31.435990724\n",
      "13.678721449 14.7171102004\n",
      "141.027361813 72.0835187663\n",
      "20.1893632443 21.8563331474\n",
      "9.977377 7.82146482891\n",
      "18.6921488519 23.5373518817\n",
      "16.462641516 23.5092076126\n",
      "5.59895799854 12.2290179151\n",
      "28.3714810972 28.6327867002\n",
      "14.15334 33.452240043\n",
      "18.5044963291 39.5292897687\n",
      "207.981782083 68.8018113924\n",
      "28.2475541611 19.6926411454\n",
      "13.9765084347 12.3587162504\n",
      "55.8962879611 52.3109754234\n",
      "5.325184485 4.27469278092\n",
      "16.5100475194 23.4383481279\n",
      "15.7501935576 12.6893177346\n",
      "8.8346563912 11.121832604\n",
      "6.188004 14.7125467712\n",
      "20.63976 53.8929630316\n",
      "32.0038289833 33.07275187\n",
      "61.1637434704 26.7125498297\n",
      "11.7595790069 12.2968407379\n",
      "70.8496080469 54.9823798946\n",
      "60.1400633372 41.7327417784\n",
      "5.814282425 5.06953570483\n",
      "17.2421916422 31.7722179757\n",
      "16.8553230354 23.2673464605\n",
      "16.6166065058 22.3322125662\n",
      "17.3480617394 19.9364395835\n",
      "31.3282627749 31.1097317623\n",
      "18.787665 20.8111856339\n",
      "4.8035017735 6.3829679287\n",
      "48.9957 43.9398917265\n",
      "14.1596093192 13.307208679\n",
      "46.6639817168 18.1538952003\n",
      "8.01457033102 7.29217572741\n",
      "344.422440382 593.478185072\n",
      "74.6139205353 44.0074171854\n",
      "16.9720444751 20.5896858418\n",
      "134.948991711 48.1443590895\n",
      "32.6382495146 19.0169185899\n",
      "3.2039332104 7.58285053922\n",
      "9.3967134809 35.4669014917\n",
      "9.54644517847 10.427774402\n",
      "9.93219079052 7.20873551876\n",
      "8.94407782413 12.6288005299\n",
      "5.35292247639 26.9568246975\n",
      "19.17252 20.4614313206\n",
      "37.35248 27.4292527628\n",
      "66.8436386305 30.0794710474\n",
      "516.996519583 236.021651054\n",
      "29.7331162625 42.466109152\n",
      "11.0889738056 26.1706210235\n",
      "23.4367752688 28.6749138464\n",
      "15.6116758042 20.6077008076\n",
      "91.6161664403 81.8769638659\n",
      "17.3506635569 22.4093710811\n",
      "41.4498123362 40.2428841378\n",
      "280.370067054 79.2236089457\n",
      "7.47779935417 13.1269524928\n",
      "6.68109796532 4.1277658543\n",
      "81.2429365417 71.6959399217\n",
      "18.87676 8.53362010469\n",
      "17.4168522729 39.1142517997\n",
      "26.9731425703 82.1334234639\n",
      "65.8101882407 41.2142233917\n",
      "20.6311722691 31.2187976846\n",
      "29.7199320479 27.3773674087\n",
      "14.3115439704 23.9070824342\n",
      "42.3254368491 44.2526312765\n",
      "36.5814957083 29.3133006497\n",
      "38.2909349012 28.7198809605\n",
      "9.25510515352 16.4724185984\n",
      "257.932086667 212.652818063\n",
      "23.40205 27.2208716147\n",
      "25.3868430324 37.3680182523\n",
      "9.00755270365 6.51012887399\n",
      "11.9504621354 23.768746213\n",
      "7.99081271944 7.78482852481\n",
      "10.7503591153 19.9107290619\n",
      "13.5381071167 13.9143226858\n",
      "12.3147835679 19.5961490032\n",
      "720.957 216.744994464\n",
      "5.745081435 6.3862393951\n",
      "11.9823364924 6.8277000489\n",
      "8.83440985938 16.5734929199\n",
      "10.4854630503 13.6966702714\n",
      "9.38964527396 8.90243005447\n",
      "20.1991512682 14.1662557839\n",
      "6.00663370833 6.88986103851\n",
      "21.0495319313 15.1733281906\n",
      "8.87270790378 9.47513898767\n",
      "15.4273457556 21.2893009357\n",
      "5.92427015104 6.18014235243\n",
      "7.109998 6.75552311919\n",
      "430.694 219.910995629\n",
      "29.9227239954 21.7841914285\n",
      "822.696719812 22.6290375085\n",
      "119.786123681 12.5560243433\n",
      "10.26228 7.00000047438\n",
      "41.9777371863 32.8323394383\n",
      "13.77342 11.1952757277\n",
      "88.7632301204 36.475582084\n",
      "84.0049601481 65.2115095447\n",
      "17.5710090302 24.6699725764\n",
      "16.9807639167 26.0469890686\n",
      "16.2645465685 16.8675639677\n",
      "17.2276148443 14.046756547\n",
      "10.2927630559 9.98037488421\n",
      "17.2948716719 20.4468517045\n",
      "12.4933151556 11.8041950343\n",
      "18.4526293049 33.8061607573\n",
      "111.890717395 48.7778141961\n",
      "18.8207404549 20.985295547\n",
      "18.00004 27.2936290693\n",
      "39.8955145722 42.4056756475\n",
      "12.5369960264 13.9371945522\n",
      "1.34280670475 1.24178235165\n",
      "13.8975802315 12.95575476\n",
      "29.9558809 34.1357134459\n",
      "6.53163873993 16.057918604\n",
      "215.32704075 62.0912120997\n",
      "22.9218369544 29.1754142162\n",
      "7.11832313322 5.27143201805\n",
      "16.3837451542 15.312188192\n",
      "2.253635 5.12290225826\n",
      "38.29716 42.1967142105\n",
      "12.84654 10.1856992926\n",
      "8.23198047222 7.22742086231\n",
      "10.9499295798 17.649504917\n",
      "113.73525 49.8700287403\n",
      "8.26136472 10.2778484635\n",
      "23.0333029333 25.4747077598\n",
      "120.051966942 40.0632153495\n",
      "67.9737375647 49.774335754\n",
      "11.3275455764 15.058746351\n",
      "10.9321974676 20.3217219383\n",
      "6.389064 6.48396917579\n",
      "8.12881533302 11.1474379251\n",
      "16.4964837311 12.899537675\n",
      "98.5424724514 68.040019756\n",
      "32.872088853 13.2766969607\n",
      "7.88112009606 14.7128178937\n",
      "18.5091578 42.2296909205\n",
      "9.73487398391 8.34480255218\n",
      "7.14861371294 8.36168387001\n",
      "82.7022791333 58.9171451146\n",
      "20.9912966472 25.2836566813\n",
      "18.9771163563 20.0347106978\n",
      "9.08972 11.2305668008\n",
      "18.3699712693 34.1084597358\n",
      "170.535222772 44.3062090015\n",
      "48.610413687 34.0348292334\n",
      "48.6351835375 8.3706619859\n",
      "9.57074366111 11.4980137756\n",
      "31.5338397711 30.1258176724\n",
      "6.24511202037 4.23320190688\n",
      "21.7334785291 32.8831271295\n",
      "4.54330204792 8.72101011314\n",
      "57.2674030833 34.3904455272\n",
      "42.45273 26.0959239189\n",
      "23.9512417219 52.3060963402\n",
      "9.28792 12.6816171406\n",
      "44.6191322493 42.5432277111\n",
      "8.90644033981 12.3671036413\n",
      "6.99825226667 12.3703360647\n",
      "1.86865397 7.58040133576\n",
      "51.9543298638 43.0058803116\n",
      "27.0639779534 22.7417727746\n",
      "25.7368181292 21.9917040645\n",
      "12.9688816693 25.9971634834\n",
      "14.9170392491 26.3921297795\n",
      "88.5261738559 35.124413759\n"
     ]
    }
   ],
   "source": [
    "for x,y in zip(valid,pred):\n",
    "    print(x,y)"
   ]
  },
  {
   "cell_type": "code",
   "execution_count": 136,
   "metadata": {
    "collapsed": true
   },
   "outputs": [],
   "source": [
    "from sklearn.feature_selection import RFE\n",
    "from sklearn.linear_model import LinearRegression\n",
    " \n",
    "lr = LinearRegression()\n",
    "#select 5 the most informative features\n",
    "rfe = RFE(lr, 20) \n",
    "selector = rfe.fit(train_X,train_y)"
   ]
  },
  {
   "cell_type": "code",
   "execution_count": 137,
   "metadata": {
    "collapsed": false
   },
   "outputs": [
    {
     "name": "stdout",
     "output_type": "stream",
     "text": [
      "[(1, 'gen_14'), (1, 'gen_15'), (1, 'gen_16'), (1, 'gen_17'), (1, 'gen_18'), (1, 'gen_21'), (1, 'gen_22'), (1, 'gen_23'), (1, 'gen_24'), (1, 'gen_25'), (1, 'gen_28'), (1, 'gen_32'), (1, 'wd_1'), (1, 'wd_2'), (1, 'wd_3'), (1, 'wd_4'), (1, 'wd_5'), (1, 'wd_6'), (1, 'wd_7'), (1, 'weekend'), (2, 'gen_20'), (3, 'gen_19'), (4, 'gen_13'), (5, 'gen_12'), (6, 'gen_11'), (7, 'gen_10'), (8, 'gen_9'), (9, 'gen_8'), (10, 'gen_7'), (11, 'gen_26'), (12, 'gen_6'), (13, 'gen_5'), (14, 'gen_4'), (15, 'gen_27'), (16, 'gen_3'), (17, 'gen_1'), (18, 'gen_2'), (19, 'gen_34'), (20, 'gen_35'), (21, 'gen_31'), (22, 'gen_39'), (23, 'gen_38'), (24, 'gen_45'), (25, 'gen_49'), (26, 'gen_50'), (27, 'h_0'), (28, 'gen_58'), (29, 'h_23'), (30, 'h_20'), (31, 'h_21'), (32, 'h_1'), (33, 'h_18'), (34, 'evening'), (35, 'h_19'), (36, 'h_22'), (37, 'h_2'), (38, 'gen_30'), (39, 'gen_42'), (40, 'gen_41'), (41, 'h_7'), (42, 'h_8'), (43, 'h_17'), (44, 'h_16'), (45, 'h_14'), (46, 'h_9'), (47, 'h_15'), (48, 'h_10'), (49, 'h_13'), (50, 'h_6'), (51, 'h_11'), (52, 'h_4'), (53, 'h_12'), (54, 'h_3'), (55, 'h_5'), (56, 'gen_33'), (57, 'gen_29'), (58, 'gen_48'), (59, 'gen_44'), (60, 'gen_52'), (61, 'cd_8'), (62, 'cd_9'), (63, 'cd_7'), (64, 'cd_6'), (65, 'cd_10'), (66, 'cd_5'), (67, 'cd_4'), (68, 'cd_1'), (69, 'cd_3'), (70, 'cd_2'), (71, 'cd_11'), (72, 'cd_0'), (73, 'cd_12'), (74, 'cd_13'), (75, 'eye_col_bubblegum'), (76, 'eye_col_sizzurp'), (77, 'eye_col_topaz'), (78, 'eye_col_chestnut'), (79, 'eye_col_strawberry'), (80, 'eye_col_mintgreen'), (81, 'eye_col_golime'), (82, 'mouth_gerbil'), (83, 'mouth_whixtensions'), (84, 'mouth_pouty'), (85, 'mouth_soserious'), (86, 'mouth_happygokitty'), (87, 'mouth_saycheese'), (88, 'mouth_beard'), (89, 'mouth_tongue'), (90, 'mouth_dali'), (91, 'eye_type_wingtips'), (92, 'eye_type_fabulous'), (93, 'eye_type_otaku'), (94, 'eye_type_simple'), (95, 'eye_type_crazy'), (96, 'eye_type_raisedbrow'), (97, 'eye_type_thicccbrowz'), (98, 'pat_type_jaguar'), (99, 'pat_type_tigerpunk'), (100, 'pat_type_calicool'), (101, 'pat_type_spock'), (102, 'pat_type_luckystripe'), (103, 'pat_type_totesbasic'), (104, 'pat_col_violet'), (105, 'pat_col_chocolate'), (106, 'pat_col_barkbrown'), (107, 'pat_col_swampgreen'), (108, 'pat_col_coffee'), (109, 'pat_col_blurple'), (110, 'pat_col_lemonade'), (111, 'pat_col_scarlet'), (112, 'pat_col_wolfgrey'), (113, 'pat_col_cerulian'), (114, 'sec_col_granitegrey'), (115, 'sec_col_kittencream'), (116, 'sec_col_peach'), (117, 'sec_col_emeraldgreen'), (118, 'sec_col_bloodred'), (119, 'sec_col_belleblue'), (120, 'prim_col_cottoncandy'), (121, 'prim_col_greymatter'), (122, 'prim_col_salmon'), (123, 'prim_col_aquamarine'), (124, 'prim_col_orangesoda'), (125, 'prim_col_cloudgrey'), (126, 'prim_col_mauveover'), (127, 'prim_col_oldlace'), (128, 'breed_himalayan'), (129, 'breed_sphynx'), (130, 'breed_laperm'), (131, 'breed_munchkin'), (132, 'breed_ragamaffin'), (133, 'breed_cymric'), (134, 'breed_chartreux'), (135, 'breed_mainecoon'), (136, 'breed_ragdoll'), (137, 'breed_persian'), (138, 'gen_54'), (139, 'gen_46'), (140, 'gen_53'), (141, 'gen_51'), (142, 'gen_43'), (143, 'pat_col_cerulian_cs'), (144, 'eye_type_fabulous_cs'), (145, 'eye_col_strawberry_cs'), (146, 'mouth_pouty_cs'), (147, 'pat_col_wolfgrey_cs'), (148, 'eye_type_raisedbrow_cs'), (149, 'mouth_dali_cs'), (150, 'eye_type_crazy_cs'), (151, 'pat_type_tigerpunk_cs'), (152, 'eye_type_simple_cs'), (153, 'eye_col_bubblegum_cs'), (154, 'pat_type_jaguar_cs'), (155, 'sec_col_kittencream_cs'), (156, 'sec_col_peach_cs'), (157, 'pat_type_totesbasic_cs'), (158, 'sec_col_granitegrey_cs'), (159, 'eye_col_topaz_cs'), (160, 'prim_col_aquamarine_cs'), (161, 'mouth_whixtensions_cs'), (162, 'mouth_gerbil_cs'), (163, 'pat_type_luckystripe_cs'), (164, 'mouth_saycheese_cs'), (165, 'gen_40'), (166, 'prim_col_orangesoda_cs'), (167, 'breed_ragamaffin_cs'), (168, 'prim_col_cottoncandy_cs'), (169, 'breed_sphynx_cs'), (170, 'breed_mainecoon_cs'), (171, 'pat_col_violet_cs'), (172, 'gen_47'), (173, 'mouth_happygokitty_cs'), (174, 'breed_munchkin_cs'), (175, 'pat_col_chocolate_cs'), (176, 'eye_type_thicccbrowz_cs'), (177, 'gen_64'), (178, 'breed_himalayan_cs'), (179, 'eye_type_otaku_cs'), (180, 'gen_67'), (181, 'prim_col_oldlace_cs'), (182, 'gen_36'), (183, 'gen_59'), (184, 'gen_68'), (185, 'gen_63'), (186, 'eye_type_wingtips_cs'), (187, 'gen_55'), (188, 'gen_65'), (189, 'gen_62'), (190, 'gen_56'), (191, 'eye_col_sizzurp_cs'), (192, 'breed_chartreux_cs'), (193, 'gen_66'), (194, 'gen_61'), (195, 'mouth_beard_cs'), (196, 'gen_57'), (197, 'mouth_soserious_cs'), (198, 'gen_60'), (199, 'gen_37'), (200, 'gen_70'), (201, 'gen_71'), (202, 'gen_73'), (203, 'gen_77'), (204, 'gen_78'), (205, 'gen_76'), (206, 'gen_75'), (207, 'gen_69'), (208, 'gen_74'), (209, 'gen_80'), (210, 'gen_79'), (211, 'gen_72'), (212, 'medPrice'), (213, 'fancy'), (214, 'age'), (215, 'siringWithId'), (216, 'isGestating'), (217, 'isReady'), (218, 'gen_83'), (219, 'gen_87'), (220, 'gen_86'), (221, 'gen_88'), (222, 'gen_81'), (223, 'gen_85'), (224, 'gen_93'), (225, 'gen_90'), (226, 'gen_96'), (227, 'gen_89'), (228, 'gen_97'), (229, 'gen_99'), (230, 'gen_101'), (231, 'gen_82'), (232, 'gen_100'), (233, 'gen_98'), (234, 'gen_84'), (235, 'gen_95'), (236, 'gen_94'), (237, 'gen_92'), (238, 'gen_91')]\n"
     ]
    }
   ],
   "source": [
    "names = list(train_X.columns)\n",
    "print (sorted(zip(map(lambda x: round(x, 4), selector.ranking_), names)))\n"
   ]
  },
  {
   "cell_type": "code",
   "execution_count": 71,
   "metadata": {
    "collapsed": false
   },
   "outputs": [
    {
     "name": "stderr",
     "output_type": "stream",
     "text": [
      "c:\\users\\pff\\appdata\\local\\programs\\python\\python35\\lib\\site-packages\\sklearn\\utils\\deprecation.py:57: DeprecationWarning: Class RandomizedLasso is deprecated; The class RandomizedLasso is deprecated in 0.19 and will be removed in 0.21.\n",
      "  warnings.warn(msg, category=DeprecationWarning)\n"
     ]
    },
    {
     "name": "stdout",
     "output_type": "stream",
     "text": [
      "Features sorted by their score:\n",
      "[(0.0, Index(['isGestating', 'isReady', 'siringWithId', 'fancy', 'breed_chartreux',\n",
      "       'breed_cymric', 'breed_himalayan', 'breed_laperm', 'breed_mainecoon',\n",
      "       'breed_munchkin',\n",
      "       ...\n",
      "       'h_22', 'h_23', 'wd_1', 'wd_2', 'wd_3', 'wd_4', 'wd_5', 'wd_6', 'wd_7',\n",
      "       'medPrice'],\n",
      "      dtype='object', length=257))]\n"
     ]
    }
   ],
   "source": [
    "from sklearn.linear_model import RandomizedLasso\n",
    "\n",
    "Y = np.log1p(df.soldPrice) \n",
    "X = df.drop('soldPrice', axis =1)\n",
    "names = [X.columns]\n",
    " \n",
    "rlasso = RandomizedLasso(alpha=0.025)\n",
    "rlasso.fit(X, Y)\n",
    " \n",
    "print (\"Features sorted by their score:\")\n",
    "print (sorted(zip(map(lambda x: round(x, 4), rlasso.scores_), \n",
    "                 names), reverse=True)\n",
    ")"
   ]
  },
  {
   "cell_type": "code",
   "execution_count": 69,
   "metadata": {
    "collapsed": false
   },
   "outputs": [],
   "source": [
    "\"\"\"from sklearn.linear_model import (LinearRegression, Ridge, \n",
    "                                  Lasso, RandomizedLasso)\n",
    "from sklearn.feature_selection import RFE, f_regression\n",
    "from sklearn.preprocessing import MinMaxScaler\n",
    "from sklearn.ensemble import RandomForestRegressor\n",
    "import numpy as np\n",
    "from minepy import MINE\n",
    " \n",
    "np.random.seed(42)\n",
    "\n",
    "Y = np.log1p(df.soldPrice) #skrewed price distribution\n",
    "X = df.drop('soldPrice', axis =1)\n",
    " \n",
    "names = [X.columns]\n",
    " \n",
    "ranks = {}\n",
    " \n",
    "def rank_to_dict(ranks, names, order=1):\n",
    "    minmax = MinMaxScaler()\n",
    "    ranks = minmax.fit_transform(order*np.array([ranks]).T).T[0]\n",
    "    ranks = map(lambda x: round(x, 2), ranks)\n",
    "    return dict(zip(names, ranks ))\n",
    " \n",
    "lr = LinearRegression(normalize=True)\n",
    "lr.fit(X, Y)\n",
    "ranks[\"Linear reg\"] = dict(zip(np.abs(lr.coef_), names)\n",
    " \n",
    "ridge = Ridge(alpha=7)\n",
    "ridge.fit(X, Y)\n",
    "ranks[\"Ridge\"] = rank_to_dict(np.abs(ridge.coef_), names)\n",
    " \n",
    "lasso = Lasso(alpha=.05)\n",
    "lasso.fit(X, Y)\n",
    "ranks[\"Lasso\"] = rank_to_dict(np.abs(lasso.coef_), names)\n",
    " \n",
    "rlasso = RandomizedLasso(alpha=0.04)\n",
    "rlasso.fit(X, Y)\n",
    "ranks[\"Stability\"] = rank_to_dict(np.abs(rlasso.scores_), names)\n",
    " \n",
    "#stop the search when 5 features are left (they will get equal scores)\n",
    "rfe = RFE(lr, n_features_to_select=5)\n",
    "rfe.fit(X,Y)\n",
    "ranks[\"RFE\"] = rank_to_dict(map(float, rfe.ranking_), names, order=-1)\n",
    " \n",
    "rf = RandomForestRegressor()\n",
    "rf.fit(X,Y)\n",
    "ranks[\"RF\"] = rank_to_dict(rf.feature_importances_, names)\n",
    " \n",
    "f, pval  = f_regression(X, Y, center=True)\n",
    "ranks[\"Corr.\"] = rank_to_dict(f, names)\n",
    " \n",
    "mine = MINE()\n",
    "mic_scores = []\n",
    "for i in range(X.shape[1]):\n",
    "    mine.compute_score(X[:,i], Y)\n",
    "    m = mine.mic()\n",
    "    mic_scores.append(m)\n",
    "    \n",
    "ranks[\"MIC\"] = rank_to_dict(mic_scores, names) \n",
    " \n",
    "r = {}\n",
    "for name in names:\n",
    "    r[name] = round(np.mean([ranks[method][name] \n",
    "                             for method in ranks.keys()]), 2)\n",
    "\n",
    "methods = sorted(ranks.keys())\n",
    "ranks[\"Mean\"] = r\n",
    "methods.append(\"Mean\")\n",
    " \n",
    "print (\"\\t%s\" % \"\\t\".join(methods))\n",
    "for name in names:\n",
    "    print (\"%s\\t%s\" % (name, \"\\t\".join(map(str, \n",
    "                         [ranks[method][name] for method in methods]))))\n",
    "\"\"\";"
   ]
  },
  {
   "cell_type": "code",
   "execution_count": null,
   "metadata": {
    "collapsed": true
   },
   "outputs": [],
   "source": []
  },
  {
   "cell_type": "markdown",
   "metadata": {
    "collapsed": true
   },
   "source": [
    "# Model for last days"
   ]
  },
  {
   "cell_type": "code",
   "execution_count": 822,
   "metadata": {
    "collapsed": false
   },
   "outputs": [],
   "source": [
    "df=merged"
   ]
  },
  {
   "cell_type": "code",
   "execution_count": 823,
   "metadata": {
    "collapsed": false
   },
   "outputs": [
    {
     "data": {
      "text/plain": [
       "(124827, 266)"
      ]
     },
     "execution_count": 823,
     "metadata": {},
     "output_type": "execute_result"
    }
   ],
   "source": [
    "df.shape"
   ]
  },
  {
   "cell_type": "code",
   "execution_count": 824,
   "metadata": {
    "collapsed": false
   },
   "outputs": [],
   "source": [
    "df.head()\n",
    "df = df.sort_values('date')"
   ]
  },
  {
   "cell_type": "code",
   "execution_count": 826,
   "metadata": {
    "collapsed": false
   },
   "outputs": [
    {
     "data": {
      "text/html": [
       "<div>\n",
       "<style>\n",
       "    .dataframe thead tr:only-child th {\n",
       "        text-align: right;\n",
       "    }\n",
       "\n",
       "    .dataframe thead th {\n",
       "        text-align: left;\n",
       "    }\n",
       "\n",
       "    .dataframe tbody tr th {\n",
       "        vertical-align: top;\n",
       "    }\n",
       "</style>\n",
       "<table border=\"1\" class=\"dataframe\">\n",
       "  <thead>\n",
       "    <tr style=\"text-align: right;\">\n",
       "      <th></th>\n",
       "      <th>num</th>\n",
       "      <th>isGestating</th>\n",
       "      <th>isReady</th>\n",
       "      <th>siringWithId</th>\n",
       "      <th>fancy</th>\n",
       "      <th>birthTime</th>\n",
       "      <th>breed_chartreux</th>\n",
       "      <th>breed_cymric</th>\n",
       "      <th>breed_himalayan</th>\n",
       "      <th>breed_laperm</th>\n",
       "      <th>...</th>\n",
       "      <th>wd_1</th>\n",
       "      <th>wd_2</th>\n",
       "      <th>wd_3</th>\n",
       "      <th>wd_4</th>\n",
       "      <th>wd_5</th>\n",
       "      <th>wd_6</th>\n",
       "      <th>wd_7</th>\n",
       "      <th>date</th>\n",
       "      <th>medPrice</th>\n",
       "      <th>meanPrice</th>\n",
       "    </tr>\n",
       "  </thead>\n",
       "  <tbody>\n",
       "    <tr>\n",
       "      <th>70275</th>\n",
       "      <td>138555</td>\n",
       "      <td>0</td>\n",
       "      <td>1</td>\n",
       "      <td>0</td>\n",
       "      <td>0</td>\n",
       "      <td>2017-12-08 02:11:47</td>\n",
       "      <td>0</td>\n",
       "      <td>1</td>\n",
       "      <td>0</td>\n",
       "      <td>0</td>\n",
       "      <td>...</td>\n",
       "      <td>0</td>\n",
       "      <td>0</td>\n",
       "      <td>0</td>\n",
       "      <td>1</td>\n",
       "      <td>0</td>\n",
       "      <td>0</td>\n",
       "      <td>0</td>\n",
       "      <td>2017-12-14</td>\n",
       "      <td>6.84982</td>\n",
       "      <td>20.360632</td>\n",
       "    </tr>\n",
       "    <tr>\n",
       "      <th>111212</th>\n",
       "      <td>241107</td>\n",
       "      <td>0</td>\n",
       "      <td>1</td>\n",
       "      <td>0</td>\n",
       "      <td>0</td>\n",
       "      <td>2017-12-11 14:30:53</td>\n",
       "      <td>0</td>\n",
       "      <td>0</td>\n",
       "      <td>0</td>\n",
       "      <td>0</td>\n",
       "      <td>...</td>\n",
       "      <td>0</td>\n",
       "      <td>0</td>\n",
       "      <td>0</td>\n",
       "      <td>1</td>\n",
       "      <td>0</td>\n",
       "      <td>0</td>\n",
       "      <td>0</td>\n",
       "      <td>2017-12-14</td>\n",
       "      <td>6.84982</td>\n",
       "      <td>20.360632</td>\n",
       "    </tr>\n",
       "    <tr>\n",
       "      <th>65804</th>\n",
       "      <td>129805</td>\n",
       "      <td>0</td>\n",
       "      <td>1</td>\n",
       "      <td>0</td>\n",
       "      <td>0</td>\n",
       "      <td>2017-12-07 17:33:01</td>\n",
       "      <td>0</td>\n",
       "      <td>0</td>\n",
       "      <td>0</td>\n",
       "      <td>0</td>\n",
       "      <td>...</td>\n",
       "      <td>0</td>\n",
       "      <td>0</td>\n",
       "      <td>0</td>\n",
       "      <td>1</td>\n",
       "      <td>0</td>\n",
       "      <td>0</td>\n",
       "      <td>0</td>\n",
       "      <td>2017-12-14</td>\n",
       "      <td>6.84982</td>\n",
       "      <td>20.360632</td>\n",
       "    </tr>\n",
       "    <tr>\n",
       "      <th>19839</th>\n",
       "      <td>40396</td>\n",
       "      <td>0</td>\n",
       "      <td>1</td>\n",
       "      <td>0</td>\n",
       "      <td>0</td>\n",
       "      <td>2017-12-03 12:52:41</td>\n",
       "      <td>0</td>\n",
       "      <td>0</td>\n",
       "      <td>0</td>\n",
       "      <td>0</td>\n",
       "      <td>...</td>\n",
       "      <td>0</td>\n",
       "      <td>0</td>\n",
       "      <td>0</td>\n",
       "      <td>1</td>\n",
       "      <td>0</td>\n",
       "      <td>0</td>\n",
       "      <td>0</td>\n",
       "      <td>2017-12-14</td>\n",
       "      <td>6.84982</td>\n",
       "      <td>20.360632</td>\n",
       "    </tr>\n",
       "    <tr>\n",
       "      <th>124826</th>\n",
       "      <td>284964</td>\n",
       "      <td>0</td>\n",
       "      <td>1</td>\n",
       "      <td>0</td>\n",
       "      <td>0</td>\n",
       "      <td>2017-12-13 09:18:55</td>\n",
       "      <td>0</td>\n",
       "      <td>0</td>\n",
       "      <td>1</td>\n",
       "      <td>0</td>\n",
       "      <td>...</td>\n",
       "      <td>0</td>\n",
       "      <td>0</td>\n",
       "      <td>0</td>\n",
       "      <td>1</td>\n",
       "      <td>0</td>\n",
       "      <td>0</td>\n",
       "      <td>0</td>\n",
       "      <td>2017-12-14</td>\n",
       "      <td>6.84982</td>\n",
       "      <td>20.360632</td>\n",
       "    </tr>\n",
       "  </tbody>\n",
       "</table>\n",
       "<p>5 rows × 266 columns</p>\n",
       "</div>"
      ],
      "text/plain": [
       "           num  isGestating  isReady  siringWithId  fancy           birthTime  \\\n",
       "70275   138555            0        1             0      0 2017-12-08 02:11:47   \n",
       "111212  241107            0        1             0      0 2017-12-11 14:30:53   \n",
       "65804   129805            0        1             0      0 2017-12-07 17:33:01   \n",
       "19839    40396            0        1             0      0 2017-12-03 12:52:41   \n",
       "124826  284964            0        1             0      0 2017-12-13 09:18:55   \n",
       "\n",
       "        breed_chartreux  breed_cymric  breed_himalayan  breed_laperm  \\\n",
       "70275                 0             1                0             0   \n",
       "111212                0             0                0             0   \n",
       "65804                 0             0                0             0   \n",
       "19839                 0             0                0             0   \n",
       "124826                0             0                1             0   \n",
       "\n",
       "          ...      wd_1  wd_2  wd_3  wd_4  wd_5  wd_6  wd_7        date  \\\n",
       "70275     ...         0     0     0     1     0     0     0  2017-12-14   \n",
       "111212    ...         0     0     0     1     0     0     0  2017-12-14   \n",
       "65804     ...         0     0     0     1     0     0     0  2017-12-14   \n",
       "19839     ...         0     0     0     1     0     0     0  2017-12-14   \n",
       "124826    ...         0     0     0     1     0     0     0  2017-12-14   \n",
       "\n",
       "        medPrice  meanPrice  \n",
       "70275    6.84982  20.360632  \n",
       "111212   6.84982  20.360632  \n",
       "65804    6.84982  20.360632  \n",
       "19839    6.84982  20.360632  \n",
       "124826   6.84982  20.360632  \n",
       "\n",
       "[5 rows x 266 columns]"
      ]
     },
     "execution_count": 826,
     "metadata": {},
     "output_type": "execute_result"
    }
   ],
   "source": [
    "df.tail()"
   ]
  },
  {
   "cell_type": "code",
   "execution_count": 745,
   "metadata": {
    "collapsed": true
   },
   "outputs": [],
   "source": [
    "df = df.drop('num',axis=1)\n",
    "df = df.drop('cat_id',axis=1)\n",
    "df = df.drop('timeStamp',axis=1)\n",
    "df = df.drop('dateSold',axis=1)"
   ]
  },
  {
   "cell_type": "code",
   "execution_count": 746,
   "metadata": {
    "collapsed": true
   },
   "outputs": [],
   "source": [
    "#df = df.drop('medPrice',axis=1)\n",
    "df = df.drop('meanPrice',axis=1)\n",
    "df = df.drop('date',axis=1)\n",
    "df = df.drop('dateBirth',axis=1)"
   ]
  },
  {
   "cell_type": "code",
   "execution_count": 747,
   "metadata": {
    "collapsed": true
   },
   "outputs": [],
   "source": [
    "#df = df.drop('medDif',axis=1)\n",
    "df = df.drop('birthTime',axis=1)"
   ]
  },
  {
   "cell_type": "code",
   "execution_count": 748,
   "metadata": {
    "collapsed": false
   },
   "outputs": [],
   "source": [
    "df['age']=np.log1p(df['age']+1)\n",
    "df['medPrice']=np.log1p(df['medPrice'])"
   ]
  },
  {
   "cell_type": "code",
   "execution_count": 749,
   "metadata": {
    "collapsed": true
   },
   "outputs": [],
   "source": [
    "#total 124820\n",
    "df_last = df[100000:]\n"
   ]
  },
  {
   "cell_type": "code",
   "execution_count": 750,
   "metadata": {
    "collapsed": false
   },
   "outputs": [
    {
     "data": {
      "text/plain": [
       "(24827, 258)"
      ]
     },
     "execution_count": 750,
     "metadata": {},
     "output_type": "execute_result"
    }
   ],
   "source": [
    "df_last.shape"
   ]
  },
  {
   "cell_type": "code",
   "execution_count": 751,
   "metadata": {
    "collapsed": false
   },
   "outputs": [],
   "source": [
    "y_train = np.log1p(df_last.soldPrice) #skrewed price distribution"
   ]
  },
  {
   "cell_type": "code",
   "execution_count": 752,
   "metadata": {
    "collapsed": false
   },
   "outputs": [],
   "source": [
    "X_train = df_last.drop('soldPrice', axis =1)"
   ]
  },
  {
   "cell_type": "code",
   "execution_count": 753,
   "metadata": {
    "collapsed": false
   },
   "outputs": [
    {
     "data": {
      "text/plain": [
       "Ridge(alpha=0.5, copy_X=True, fit_intercept=True, max_iter=None,\n",
       "   normalize=False, random_state=42, solver='sag', tol=0.001)"
      ]
     },
     "execution_count": 753,
     "metadata": {},
     "output_type": "execute_result"
    }
   ],
   "source": [
    "from sklearn.linear_model import Ridge\n",
    "\n",
    "train_X, valid_X, train_y, valid_y = train_test_split(X_train, y_train, test_size = 0.1, random_state = 42)\n",
    "model = Ridge(alpha=0.5, copy_X=True, fit_intercept=True, max_iter=None,\n",
    "   normalize=False, random_state=42, solver='sag', tol=0.001)\n",
    "model.fit(train_X,train_y)"
   ]
  },
  {
   "cell_type": "code",
   "execution_count": 754,
   "metadata": {
    "collapsed": true
   },
   "outputs": [],
   "source": [
    "pred = model.predict(valid_X)"
   ]
  },
  {
   "cell_type": "code",
   "execution_count": 755,
   "metadata": {
    "collapsed": false
   },
   "outputs": [],
   "source": [
    "valid = np.expm1(valid_y)\n",
    "pred= np.expm1(pred)"
   ]
  },
  {
   "cell_type": "code",
   "execution_count": 756,
   "metadata": {
    "collapsed": false
   },
   "outputs": [],
   "source": [
    "rms = sqrt(mean_squared_error(valid, pred))"
   ]
  },
  {
   "cell_type": "code",
   "execution_count": 757,
   "metadata": {
    "collapsed": false
   },
   "outputs": [
    {
     "data": {
      "text/plain": [
       "48.65104082545659"
      ]
     },
     "execution_count": 757,
     "metadata": {},
     "output_type": "execute_result"
    }
   ],
   "source": [
    "rms "
   ]
  },
  {
   "cell_type": "code",
   "execution_count": 662,
   "metadata": {
    "collapsed": false
   },
   "outputs": [
    {
     "name": "stdout",
     "output_type": "stream",
     "text": [
      "15.2853578358 17.1367839062\n",
      "5.52780429167 4.58205368705\n",
      "4.8949453109 10.0351329229\n",
      "7.630018 6.60730047129\n",
      "4.75208550667 6.23261827799\n",
      "12.224616 12.8598866691\n",
      "8.661548 17.3132736898\n",
      "6.68072741722 4.74225308945\n",
      "0.959314465 14.7849626866\n",
      "6.41997409424 6.53128935402\n",
      "173.248471884 100.70975682\n",
      "5.66621850694 10.8895422549\n",
      "10.7226453398 13.8593001251\n",
      "19.5492301514 10.3731695089\n",
      "6.20605365799 7.12019607244\n",
      "16.6651067115 32.0432166091\n",
      "54.1728230361 47.4260204668\n",
      "54.8327339111 78.8532766537\n",
      "32.2913903667 13.4415599784\n",
      "5.35440011667 11.4403287642\n",
      "20.43045 16.7053321261\n",
      "22.6681767531 20.8954055769\n",
      "13.3973385496 12.7431704759\n",
      "28.3210431815 10.339663687\n",
      "6.61246634271 5.69408336215\n",
      "5.98115297889 6.03443007588\n",
      "42.4513055375 8.41462787613\n",
      "20.056010107 17.4960550779\n",
      "7.92715635556 17.0931417319\n",
      "6.04576020527 7.00158432533\n",
      "14.3562999347 15.7768446909\n",
      "14.5524978469 22.4750162899\n",
      "6.01997325417 5.53412738091\n",
      "5.18457513287 4.17654898989\n",
      "5.9081546875 7.5233821788\n",
      "50.5447084306 39.8165716456\n",
      "7.95910932437 13.3036583462\n",
      "8.076945 6.61455730238\n",
      "6.43022075794 6.61902385038\n",
      "6.10014023556 5.84287248472\n",
      "20.5202378021 24.3753733502\n",
      "51.39232 32.9244935609\n",
      "7.99981148148 13.214146002\n",
      "37.8729150174 25.8847203703\n",
      "10.69094 11.0914515096\n",
      "5.09248087963 9.39198183236\n",
      "7.40190013111 6.32915521552\n",
      "5.26887524884 5.71315325286\n",
      "131.18562 147.45242886\n",
      "5.4002 6.04277078053\n",
      "5.221692 7.04787129835\n",
      "48.8106036435 106.511748766\n",
      "25.7505169602 23.5414600177\n",
      "6.40024897164 6.10356372827\n",
      "5.840046 4.81398427603\n",
      "8.88508524889 7.30423666149\n",
      "6.89027640255 8.99822995955\n",
      "4.72997789972 11.527094181\n",
      "7.22762894375 5.21072012059\n",
      "16.7793373481 13.8175431353\n",
      "31.7049646667 35.465925725\n",
      "4.17575151991 25.7864984691\n",
      "10.6678534174 9.7384741775\n",
      "6.07354309635 6.15647714729\n",
      "16.6675467209 14.5512127592\n",
      "6.51594113472 11.756603757\n",
      "9.3747288509 10.4704712716\n",
      "22.00161 6.87908459755\n",
      "18.3040013074 14.4587072598\n",
      "10.15656 10.9460471196\n",
      "95.086468975 150.948099522\n",
      "8.17381172065 14.4978537998\n",
      "69.3563123021 27.3398794642\n",
      "15.3709338444 27.2478280025\n",
      "20.0878006442 26.2066584358\n",
      "12.0143287153 12.3505650108\n",
      "5.87397148958 8.70282059811\n",
      "6.09002866574 7.47874719275\n",
      "5.225008 3.55299913971\n",
      "7.74325925 10.2975646877\n",
      "56.3080090469 96.8083806692\n",
      "5.64202888993 4.71864824212\n",
      "57.2467677384 69.741500983\n",
      "5.49076726882 5.84731421049\n",
      "8.33997172812 9.24309423672\n",
      "37.5534 11.9958010838\n",
      "6.43519686574 26.0307730041\n",
      "5.71012245 6.33094949714\n",
      "35.28767772 17.8927498592\n",
      "12.737438341 15.8417131717\n",
      "25.0818288858 29.770697887\n",
      "8.1298808438 8.09106337628\n",
      "84.6102351 92.4166615594\n",
      "6.67407143042 6.28995989552\n",
      "22.5174794396 10.5740189689\n",
      "7.26647731944 13.0719833967\n",
      "226.255997135 172.408099687\n",
      "6.37616 6.73182043833\n",
      "5.22172408576 6.78863069848\n",
      "10.4560685146 11.1547658187\n",
      "5.83363573634 7.34829701668\n",
      "13.4156925554 14.15405643\n",
      "114.867641062 121.332638242\n",
      "7.81587358472 8.04037021463\n",
      "22.6558993228 25.5165857126\n",
      "3.59113 8.17762633542\n",
      "6.45290307292 7.02122587554\n",
      "6.483784557 7.55428727092\n",
      "6.69849673333 5.3953768687\n",
      "6.06658701389 5.87089629259\n",
      "6.35849547722 11.3304745079\n",
      "6.05050488542 8.08969401574\n",
      "16.0148458549 13.8597784874\n",
      "7.96727498148 18.3721012568\n",
      "4.15735953125 3.68230805623\n",
      "31.8213056563 15.2573471944\n",
      "46.6531424578 17.9281841435\n",
      "8.41843075556 8.52489092249\n",
      "5.89367770312 9.22257578379\n",
      "6.00540159549 16.1518606638\n",
      "5.09515408667 4.32274495324\n",
      "61.5559629375 16.6248098574\n",
      "7.44934098206 6.14769482205\n",
      "6.00222478333 10.4491641679\n",
      "6.5462470875 6.91396222666\n",
      "5.24056683986 5.19626599314\n",
      "6.28848330137 12.4484228751\n",
      "9.44536569444 9.57692249225\n",
      "38.16592 14.1533522658\n",
      "10.12332793 24.2179971628\n",
      "5.403517475 3.20467773478\n",
      "8.43147373778 10.16383175\n",
      "12.0107805985 13.1954755104\n",
      "7.1469475 7.46069870226\n",
      "6.00952660891 11.7892502286\n",
      "40.0058066069 25.1389148708\n",
      "40.5104009333 22.3730840587\n",
      "23.4153008833 14.4657784398\n",
      "13.9245095168 7.69178114642\n",
      "6.4208503195 5.39812690982\n",
      "5.13823244271 5.23289899291\n",
      "23.0813024465 13.5989048711\n",
      "6.48891026863 10.1931067128\n",
      "9.21244031644 15.4908074947\n",
      "13.2136062726 9.97919075253\n",
      "55.1062857407 16.7173866913\n",
      "53.7835724719 39.3694495862\n",
      "12.275546006 16.4356939152\n",
      "10.74618 12.7958059571\n",
      "29.5187318436 13.2165338388\n",
      "13.0008862042 6.33855959227\n",
      "10.0461252911 11.7495471961\n",
      "5.92490318681 4.68383796324\n",
      "8.74546328681 13.9154674356\n",
      "8.08423773667 11.1958221854\n",
      "7.01852 13.2529795897\n",
      "8.45705531676 13.1040408952\n",
      "6.59648840856 13.7150680797\n",
      "5.550664 8.31536648436\n",
      "7.17586315139 7.04856264947\n",
      "39.7308834155 80.7946243002\n",
      "11.6711100133 12.3462470541\n",
      "51.8472407192 18.9620625002\n",
      "55.525091 14.2617191235\n",
      "5.98099681583 4.59324277135\n",
      "20.0598017714 13.4012013154\n",
      "11.3258671484 29.5134464174\n",
      "23.9129494147 64.4213771786\n",
      "7.45985 9.66984245227\n",
      "30.57222455 24.2314364148\n",
      "8.4699487338 6.38559266817\n",
      "6.91946790441 12.0463056188\n",
      "4.68293080625 7.34518025569\n",
      "6.12943363611 6.5387335398\n",
      "5.37490822037 7.51432408022\n",
      "6.72683152 14.8809477512\n",
      "5.86700321644 8.30716617723\n",
      "21.86379 37.4924925461\n",
      "5.867096 2.90329934493\n",
      "5.98690656296 6.72944665582\n",
      "10.9255687725 26.8323286338\n",
      "47.3368944208 21.9319614448\n",
      "23.1687599967 9.91195109244\n",
      "36.7565632148 16.442790755\n",
      "6.67365509074 6.29264493914\n",
      "17.5377681333 13.5271144572\n",
      "6.05603518875 7.98737738987\n",
      "20.7959829947 15.0226728077\n",
      "6.02812884444 5.33583261886\n",
      "7.36632 7.83659102037\n",
      "9.404585 11.4644317999\n",
      "8.7020752 8.41806866686\n",
      "35.9032004731 36.517138813\n",
      "9.94123560185 9.4114604661\n",
      "6.03557705858 5.50337088314\n",
      "72.9298005917 19.720466914\n",
      "3.47304 8.37900016199\n",
      "55.5592365 20.6456794062\n",
      "6.70184635278 10.8686490064\n",
      "8.53423507037 13.3329439641\n",
      "238.814 96.111329138\n",
      "5.8661726 6.16079103574\n",
      "6.94276 9.50839634684\n",
      "8.94787246933 9.00209098047\n",
      "6.13965 9.01589421721\n",
      "7.442106 13.0680620956\n",
      "13.385728125 26.5030311739\n",
      "6.49704915052 7.77345126342\n",
      "5.94045988443 9.47704611966\n",
      "10.7950098698 23.1415534417\n",
      "5.26280167781 5.08393194389\n",
      "118.628714751 76.3304657923\n",
      "9.81380968375 11.9665116485\n",
      "5.91229651736 7.71930056168\n",
      "6.01503344282 4.77631358659\n",
      "13.17264 8.43519210243\n",
      "5.565493 4.79927827933\n",
      "6.02024477833 5.32512088694\n",
      "5.96758331545 6.41064324706\n",
      "17.5317644444 15.0855249786\n",
      "9.97679596613 9.34649134887\n",
      "7.1454936125 7.76390603113\n",
      "10.9580028889 12.9157740848\n",
      "7.24854673778 7.73193991025\n",
      "5.95721254861 6.78225048132\n",
      "79.1988769639 67.1387423839\n",
      "7.15164859444 11.5965328902\n",
      "6.30511575778 6.42224881768\n",
      "8.36013239083 12.1435704091\n",
      "5.479968 4.87143728112\n",
      "20.2731610278 12.6520265499\n",
      "80.310290562 36.840881831\n",
      "6.23594290278 7.79598501364\n",
      "16.0727238519 14.9257115936\n",
      "13.88302 9.57553630081\n",
      "5.9267718226 10.0809623526\n",
      "4.72878160625 2.62695280179\n",
      "8.757312 5.83963222464\n",
      "5.74837660417 4.78974548732\n",
      "24.8163065325 20.0410710048\n",
      "5.751849775 3.72004336213\n",
      "20.5246141141 18.797011842\n",
      "7.10258184433 7.79806499363\n",
      "19.4650323796 18.5876439832\n",
      "5.53378994957 7.04823498979\n",
      "5.47155207185 4.06709973856\n",
      "6.09125152338 9.94663481139\n",
      "10.985145 12.8391115386\n",
      "5.67392919271 6.99679129922\n"
     ]
    }
   ],
   "source": [
    "for x,y in zip(valid,pred):\n",
    "    print(x,y)"
   ]
  },
  {
   "cell_type": "markdown",
   "metadata": {
    "collapsed": true
   },
   "source": [
    "# CV"
   ]
  },
  {
   "cell_type": "code",
   "execution_count": 664,
   "metadata": {
    "collapsed": true
   },
   "outputs": [],
   "source": [
    "from sklearn.model_selection import cross_val_score\n",
    "from sklearn import metrics\n",
    "\n",
    "clf = Ridge(alpha=0.5, copy_X=True, fit_intercept=True, max_iter=None,\n",
    "   normalize=False, random_state=42, solver='sag', tol=0.001)\n",
    "train_X, valid_X, train_y, valid_y = train_test_split(X_train, y_train, test_size = 0.1, random_state = 42)\n",
    "\n",
    "scores = cross_val_score(clf, train_X,train_y, cv=5, scoring='neg_mean_squared_error')\n"
   ]
  },
  {
   "cell_type": "code",
   "execution_count": 665,
   "metadata": {
    "collapsed": false
   },
   "outputs": [
    {
     "data": {
      "text/plain": [
       "array([-0.30689744, -0.28276569, -0.30320546, -0.28507139, -0.28614697])"
      ]
     },
     "execution_count": 665,
     "metadata": {},
     "output_type": "execute_result"
    }
   ],
   "source": []
  },
  {
   "cell_type": "code",
   "execution_count": 667,
   "metadata": {
    "collapsed": false
   },
   "outputs": [
    {
     "data": {
      "text/plain": [
       "GridSearchCV(cv=3, error_score='raise',\n",
       "       estimator=Ridge(alpha=0.5, copy_X=True, fit_intercept=True, max_iter=None,\n",
       "   normalize=False, random_state=42, solver='sag', tol=0.001),\n",
       "       fit_params=None, iid=True, n_jobs=1,\n",
       "       param_grid={'alpha': [0.3, 0.4, 0.5]}, pre_dispatch='2*n_jobs',\n",
       "       refit=True, return_train_score=True, scoring=None, verbose=0)"
      ]
     },
     "execution_count": 667,
     "metadata": {},
     "output_type": "execute_result"
    }
   ],
   "source": [
    "from sklearn.model_selection import GridSearchCV\n",
    "model = GridSearchCV(Ridge(alpha=0.5, copy_X=True, fit_intercept=True, max_iter=None,\n",
    "   normalize=False, random_state=42, solver='sag', tol=0.001), cv=3,\n",
    "                   param_grid={\"alpha\": [0.3, 0.4, 0.5]})\n",
    "model.fit(train_X,train_y)"
   ]
  },
  {
   "cell_type": "code",
   "execution_count": 672,
   "metadata": {
    "collapsed": false
   },
   "outputs": [
    {
     "data": {
      "text/plain": [
       "Ridge(alpha=0.3, copy_X=True, fit_intercept=True, max_iter=None,\n",
       "   normalize=False, random_state=42, solver='sag', tol=0.001)"
      ]
     },
     "execution_count": 672,
     "metadata": {},
     "output_type": "execute_result"
    }
   ],
   "source": [
    "model.best_estimator_"
   ]
  },
  {
   "cell_type": "code",
   "execution_count": 670,
   "metadata": {
    "collapsed": false
   },
   "outputs": [
    {
     "name": "stdout",
     "output_type": "stream",
     "text": [
      "inf\n"
     ]
    },
    {
     "name": "stderr",
     "output_type": "stream",
     "text": [
      "c:\\users\\pff\\appdata\\local\\programs\\python\\python35\\lib\\site-packages\\sklearn\\metrics\\regression.py:239: RuntimeWarning: overflow encountered in square\n",
      "  output_errors = np.average((y_true - y_pred) ** 2, axis=0,\n"
     ]
    }
   ],
   "source": [
    "pred = model.predict(valid_X)\n",
    "valid = np.expm1(valid_y)\n",
    "pred= np.expm1(pred)\n",
    "valid = np.expm1(valid_y)\n",
    "pred= np.expm1(pred)\n",
    "res =sqrt(mean_squared_error(valid, pred))\n",
    "print (res)"
   ]
  },
  {
   "cell_type": "code",
   "execution_count": null,
   "metadata": {
    "collapsed": true
   },
   "outputs": [],
   "source": []
  }
 ],
 "metadata": {
  "kernelspec": {
   "display_name": "Python 3",
   "language": "python",
   "name": "python3"
  },
  "language_info": {
   "codemirror_mode": {
    "name": "ipython",
    "version": 3
   },
   "file_extension": ".py",
   "mimetype": "text/x-python",
   "name": "python",
   "nbconvert_exporter": "python",
   "pygments_lexer": "ipython3",
   "version": "3.5.2"
  }
 },
 "nbformat": 4,
 "nbformat_minor": 2
}
